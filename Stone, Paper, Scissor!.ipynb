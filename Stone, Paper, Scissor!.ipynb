{
 "cells": [
  {
   "cell_type": "markdown",
   "metadata": {},
   "source": [
    "# Stone-Paper-Scissor Game!!"
   ]
  },
  {
   "cell_type": "code",
   "execution_count": 6,
   "metadata": {},
   "outputs": [],
   "source": [
    "import random as rd"
   ]
  },
  {
   "cell_type": "code",
   "execution_count": 10,
   "metadata": {},
   "outputs": [],
   "source": [
    "def Comp_choice(choice):\n",
    "    comp_choice=rd.choice(choice)\n",
    "    print(\"Computer's choice : {}\".format(comp_choice))\n",
    "    return comp_choice\n",
    " \n",
    "def User_choice():\n",
    "    user_choice=input(\"Enter your choice from (Stone/Paper/Scissor): \")\n",
    "    return user_choice\n",
    "\n",
    "def Compare_choice(comp_choice,user_choice):\n",
    "    if(comp_choice==user_choice):\n",
    "        print(\"It's a tie!!!\")\n",
    "    elif(comp_choice=='Stone' and user_choice=='Paper'):\n",
    "        print(\"You Win!!!\")\n",
    "    elif(comp_choice=='Paper' and user_choice=='Scissor'):\n",
    "        print(\"You Win!!!\")\n",
    "    elif(comp_choice=='Scissor' and user_choice=='Stone'):\n",
    "        print(\"You Win!!!\")\n",
    "    elif(comp_choice=='Stone' and user_choice=='Scissor'):\n",
    "        print(\"Computer Wins!!!\")\n",
    "    elif(comp_choice=='Paper' and user_choice=='Stone'):\n",
    "        print(\"Computer Wins!!!\")\n",
    "    elif(comp_choice=='Scissor' and user_choice=='Paper'):\n",
    "        print(\"Computer Wins!!!\")\n",
    "    "
   ]
  },
  {
   "cell_type": "code",
   "execution_count": 12,
   "metadata": {},
   "outputs": [
    {
     "name": "stdout",
     "output_type": "stream",
     "text": [
      "Let's Play Stone-Paper-Scissor!!!\n",
      "Enter your choice from (Stone/Paper/Scissor): Paper\n",
      "Computer's choice : Paper\n",
      "It's a tie!!!\n",
      "Do you wish to Continue?(Y/N)Y\n",
      "Enter your choice from (Stone/Paper/Scissor): Scissor\n",
      "Computer's choice : Paper\n",
      "You Win!!!\n",
      "Do you wish to Continue?(Y/N)N\n",
      "Thanks for Playing!!!\n"
     ]
    }
   ],
   "source": [
    "choice=['Stone','Paper','Scissor']\n",
    "print(\"Let's Play Stone-Paper-Scissor!!!\")\n",
    "flag=True\n",
    "while(flag==True):\n",
    "    user_choice=User_choice()\n",
    "    comp_choice=Comp_choice(choice)\n",
    "    Compare_choice(comp_choice,user_choice)\n",
    "    wish=input(\"Do you wish to Continue?(Y/N)\")\n",
    "    if(wish=='Y' or wish=='YES'):\n",
    "        flag=True\n",
    "    else:\n",
    "        flag=False\n",
    "print(\"Thanks for Playing!!!\")"
   ]
  },
  {
   "cell_type": "code",
   "execution_count": null,
   "metadata": {},
   "outputs": [],
   "source": []
  }
 ],
 "metadata": {
  "kernelspec": {
   "display_name": "Python 3",
   "language": "python",
   "name": "python3"
  },
  "language_info": {
   "codemirror_mode": {
    "name": "ipython",
    "version": 3
   },
   "file_extension": ".py",
   "mimetype": "text/x-python",
   "name": "python",
   "nbconvert_exporter": "python",
   "pygments_lexer": "ipython3",
   "version": "3.8.3"
  }
 },
 "nbformat": 4,
 "nbformat_minor": 4
}
