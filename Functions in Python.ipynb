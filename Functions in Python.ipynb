{
 "cells": [
  {
   "cell_type": "markdown",
   "metadata": {},
   "source": [
    "# Functions in Python"
   ]
  },
  {
   "cell_type": "raw",
   "metadata": {},
   "source": [
    "1. Write a function that inputs a number and prints the multiplication table of that number."
   ]
  },
  {
   "cell_type": "code",
   "execution_count": 1,
   "metadata": {},
   "outputs": [
    {
     "name": "stdout",
     "output_type": "stream",
     "text": [
      "Tables of number\n",
      "Enter the number for which table needs to be printed: 5\n",
      "5*1=5\n",
      "5*2=10\n",
      "5*3=15\n",
      "5*4=20\n",
      "5*5=25\n",
      "5*6=30\n",
      "5*7=35\n",
      "5*8=40\n",
      "5*9=45\n",
      "5*10=50\n"
     ]
    }
   ],
   "source": [
    "def mul_table(n):\n",
    "    for i in range(10):\n",
    "        print(\"{}*{}={}\".format(n,i+1,n*(i+1)))\n",
    "    \n",
    "# Driver Code\n",
    "print(\"Tables of number\")\n",
    "num=int(input(\"Enter the number for which table needs to be printed: \"))\n",
    "mul_table(num)"
   ]
  },
  {
   "cell_type": "raw",
   "metadata": {},
   "source": [
    "2. Write a program to print twin primes less than 1000. If two consecutive odd numbers are both prime then they are known as twin primes."
   ]
  },
  {
   "cell_type": "code",
   "execution_count": 4,
   "metadata": {},
   "outputs": [
    {
     "name": "stdout",
     "output_type": "stream",
     "text": [
      "Finding twin primes upto 1000\n",
      "( 3 , 5 )( 5 , 7 )( 11 , 13 )( 17 , 19 )( 29 , 31 )( 41 , 43 )( 59 , 61 )( 71 , 73 )( 101 , 103 )( 107 , 109 )( 137 , 139 )( 149 , 151 )( 179 , 181 )( 191 , 193 )( 197 , 199 )( 227 , 229 )( 239 , 241 )( 269 , 271 )( 281 , 283 )( 311 , 313 )( 347 , 349 )( 419 , 421 )( 431 , 433 )( 461 , 463 )( 521 , 523 )( 569 , 571 )( 599 , 601 )( 617 , 619 )( 641 , 643 )( 659 , 661 )( 809 , 811 )( 821 , 823 )( 827 , 829 )( 857 , 859 )( 881 , 883 )"
     ]
    }
   ],
   "source": [
    "def Twin_prime(n):\n",
    "    prime = [True for i in range(n + 2)] \n",
    "    p = 2\n",
    "      \n",
    "    while (p * p <= n + 1): \n",
    "        if (prime[p] == True):  \n",
    "            for i in range(p * 2, n + 2, p): \n",
    "                prime[i] = False\n",
    "        p += 1\n",
    "    for p in range(2, n-1): \n",
    "        if prime[p] and prime[p + 2]: \n",
    "            print(\"(\",p,\",\", (p + 2), \")\" ,end='') \n",
    "\n",
    "# Driver Code\n",
    "print(\"Finding twin primes upto 1000\")\n",
    "n = 1000\n",
    "Twin_prime(n) "
   ]
  },
  {
   "cell_type": "raw",
   "metadata": {},
   "source": [
    "3. Write a program to find out the prime factors of a number. Example: prime factors of 56 -2, 2, 2, 7"
   ]
  },
  {
   "cell_type": "code",
   "execution_count": 10,
   "metadata": {},
   "outputs": [
    {
     "name": "stdout",
     "output_type": "stream",
     "text": [
      "Enter the number for which you need to fid prime factors: 56\n",
      "2\n",
      "2\n",
      "2\n",
      "7.0\n"
     ]
    }
   ],
   "source": [
    "import math\n",
    "def primeFactors(n): \n",
    "    while n % 2 == 0: \n",
    "        print (2) \n",
    "        n = n / 2\n",
    "    for i in range(3,int(math.sqrt(n))+1,2): \n",
    "        while n % i== 0: \n",
    "            print (i) \n",
    "            n = n / i \n",
    "    if n > 2: \n",
    "        print (n) \n",
    "\n",
    "# Driver Code\n",
    "n=int(input(\"Enter the number for which you need to find prime factors: \"))\n",
    "primeFactors(n)"
   ]
  },
  {
   "cell_type": "raw",
   "metadata": {},
   "source": [
    "4. Write a program to implement these formulae of permutations and combinations. Number of permutations of n objects taken r at a time: p(n, r) = n! / (n-r)!. Number of combinations of n objects taken r at a time is: c(n, r) = n! / (r!*(n-r)!) = p(n,r) / r!"
   ]
  },
  {
   "cell_type": "code",
   "execution_count": 1,
   "metadata": {},
   "outputs": [
    {
     "name": "stdout",
     "output_type": "stream",
     "text": [
      "Program to find Permutation and Combination\n",
      "Enter number of total objects: 5\n",
      "Enter the number of objects taken at a time: 2\n",
      "What do you want to calculate? (Permutation/Combination)Combination\n",
      "Combination is 10.0 when 2 objects are taken at a time from 5 objects.\n"
     ]
    }
   ],
   "source": [
    "def permutation(n,r):\n",
    "    num,den=1,1\n",
    "    for i in range(n):\n",
    "        num=num*(i+1)\n",
    "    for i in range(n-r):\n",
    "        den=den*(i+1)\n",
    "    per=num/den\n",
    "    return(per)\n",
    "\n",
    "def combination(per,r):\n",
    "    den=1\n",
    "    for i in range(r):\n",
    "        den=den*(i+1)\n",
    "    com=per/den\n",
    "    return(com)\n",
    "\n",
    "# Driver Code\n",
    "print(\"Program to find Permutation and Combination\")\n",
    "n=int(input(\"Enter number of total objects: \"))\n",
    "r=int(input(\"Enter the number of objects taken at a time: \"))\n",
    "choice=input(\"What do you want to calculate? (Permutation/Combination)\")\n",
    "if(choice=='Permutation'):\n",
    "    per=permutation(n,r)\n",
    "    print(\"Permutation is {} when {} objects are taken at a time from {} objects.\".format(per,r,n))\n",
    "elif(choice=='Combination'):\n",
    "    per=permutation(n,r)\n",
    "    com=combination(per,r)\n",
    "    print(\"Combination is {} when {} objects are taken at a time from {} objects.\".format(com,r,n))"
   ]
  },
  {
   "cell_type": "raw",
   "metadata": {},
   "source": [
    "5. Write a function that converts a decimal number to binary number."
   ]
  },
  {
   "cell_type": "code",
   "execution_count": 2,
   "metadata": {},
   "outputs": [
    {
     "name": "stdout",
     "output_type": "stream",
     "text": [
      "Enter decimal number: 17\n",
      "The binary number is: \n",
      "10001"
     ]
    }
   ],
   "source": [
    "def decToBinary(n): \n",
    "    binaryNum = [0] * n;  \n",
    "    i = 0; \n",
    "    while (n > 0):   \n",
    "        binaryNum[i] = n % 2; \n",
    "        n = int(n / 2); \n",
    "        i += 1;  \n",
    "    print(\"The binary number is: \")\n",
    "    for j in range(i - 1, -1, -1): \n",
    "        print(binaryNum[j], end = \"\"); \n",
    "# Driver Code \n",
    "n = int(input(\"Enter decimal number: \"))\n",
    "decToBinary(n);"
   ]
  },
  {
   "cell_type": "raw",
   "metadata": {},
   "source": [
    "6. Write a function cubesum() that accepts an integer and returns the sum of the cubes of individual digits of that number. Use this function to make functions PrintArmstrong() and isArmstrong() to print Armstrong numbers and to find whether is an Armstrong number."
   ]
  },
  {
   "cell_type": "code",
   "execution_count": 17,
   "metadata": {},
   "outputs": [
    {
     "name": "stdout",
     "output_type": "stream",
     "text": [
      "Enter a number: 15\n",
      "126\n",
      "The number 15 is not an Armstrong number.\n"
     ]
    }
   ],
   "source": [
    "def cubesum(n):\n",
    "    sum1=0\n",
    "    while (n>0):\n",
    "        digit=n%10\n",
    "        #print(digit)\n",
    "        sum1=sum1+(digit**3)\n",
    "        n=int(n/10)\n",
    "    print(sum1)\n",
    "    return(sum1)\n",
    "\n",
    "def PrintArmstrong(n):\n",
    "    print(\"The number {} is an Armstrong number.\".format(n))\n",
    "\n",
    "def isArmstrong(n,sum1):\n",
    "    if n==sum1:\n",
    "        PrintArmstrong(n)\n",
    "    else:\n",
    "        print(\"The number {} is not an Armstrong number.\".format(n))\n",
    "        \n",
    "    \n",
    "# Driver Code\n",
    "n=int(input(\"Enter a number: \"))\n",
    "sum1=cubesum(n)\n",
    "isArmstrong(n,sum1)"
   ]
  },
  {
   "cell_type": "raw",
   "metadata": {},
   "source": [
    "7. Write a function prodDigits() that inputs a number and returns the product of digits of that number."
   ]
  },
  {
   "cell_type": "code",
   "execution_count": 18,
   "metadata": {},
   "outputs": [
    {
     "name": "stdout",
     "output_type": "stream",
     "text": [
      "Enter a number: 153\n",
      "15\n",
      "Product of digits of number 153 is 15.\n"
     ]
    }
   ],
   "source": [
    "def prodDigits(n):\n",
    "    prod=1\n",
    "    while (n>0):\n",
    "        digit=n%10\n",
    "        #print(digit)\n",
    "        prod=prod*digit\n",
    "        n=int(n/10)\n",
    "    print(prod)\n",
    "    return(prod)\n",
    "\n",
    "# Driver Code\n",
    "n=int(input(\"Enter a number: \"))\n",
    "prod=prodDigits(n)\n",
    "print(\"Product of digits of number {} is {}.\".format(n,prod))"
   ]
  },
  {
   "cell_type": "raw",
   "metadata": {},
   "source": [
    "8. If all digits of a number n are multiplied by each other repeating with the product, the one digit number obtained at last is called the multiplicative digital root of n. The number of times digits need to be multiplied to reach one digit is called the multiplicative persistance of n.\n",
    "Example: 86 -> 48 -> 32 -> 6 (MDR 6, MPersistence 3)\n",
    "         341 -> 12->2 (MDR 2, MPersistence 2)\n",
    "Using the function prodDigits() of previous exercise write functions MDR() and MPersistence() that input a number and return its multiplicative digital root and multiplicative persistence respectively"
   ]
  },
  {
   "cell_type": "code",
   "execution_count": 4,
   "metadata": {},
   "outputs": [
    {
     "name": "stdout",
     "output_type": "stream",
     "text": [
      "Enter a number: 86\n",
      "For 86 MDR is 6 and M Persistance is 3\n"
     ]
    }
   ],
   "source": [
    "def prodDigits(n):\n",
    "    prod=1\n",
    "    while (n>0):\n",
    "        digit=n%10\n",
    "        prod=prod*digit\n",
    "        n=int(n/10)\n",
    "    return(prod)\n",
    "\n",
    "def MPersistence(n):\n",
    "    count=0\n",
    "    mdr=str(n)\n",
    "    while(len(mdr)>1):\n",
    "        count=count+1\n",
    "        mdr=str(prodDigits(int(mdr)))\n",
    "    return int(mdr),count\n",
    "        \n",
    "# Driver Code\n",
    "n=int(input(\"Enter a number: \"))\n",
    "\n",
    "mdr,mper=MPersistence(n)\n",
    "print(\"For {0} MDR is {1} and MPersistance is {2}\".format(n, mdr, mper))"
   ]
  },
  {
   "cell_type": "raw",
   "metadata": {},
   "source": [
    "9. Write a function sumPdivisors() that finds the sum of proper divisors of a number. Proper divisors of a number are those numbers by which the number is divisible, except the number itself. For example proper divisors of 36 are 1, 2, 3, 4, 6, 9, 18"
   ]
  },
  {
   "cell_type": "code",
   "execution_count": 1,
   "metadata": {},
   "outputs": [
    {
     "name": "stdout",
     "output_type": "stream",
     "text": [
      "Enter a number: 36\n",
      "The sum of all divisors of number 36 is 55\n"
     ]
    }
   ],
   "source": [
    "def sumPdivisors(num):\n",
    "    divisors=[]\n",
    "    for i in range(1,num):\n",
    "        if num%i==0:\n",
    "            divisors.append(i)\n",
    "    return sum(divisors)\n",
    "\n",
    "# Driver Code\n",
    "n=int(input(\"Enter a number: \"))\n",
    "sum1=sumPdivisors(n)\n",
    "print(\"The sum of all divisors of number {} is {}\".format(n,sum1))"
   ]
  },
  {
   "cell_type": "raw",
   "metadata": {},
   "source": [
    "10. A number is called perfect if the sum of proper divisors of that number is equal to the number. For example 28 is perfect number, since 1+2+4+7+14=28. Write a program to print all the perfect numbers in a given range"
   ]
  },
  {
   "cell_type": "code",
   "execution_count": 3,
   "metadata": {},
   "outputs": [
    {
     "name": "stdout",
     "output_type": "stream",
     "text": [
      "Enter a number: 28\n",
      "The sum of all divisors of number 28 is equal to the number 28. Hence the number is perfect number\n"
     ]
    }
   ],
   "source": [
    "def sumPdivisors(num):\n",
    "    divisors=[]\n",
    "    for i in range(1,num):\n",
    "        if num%i==0:\n",
    "            divisors.append(i)\n",
    "    return sum(divisors)\n",
    "\n",
    "# Driver Code\n",
    "n=int(input(\"Enter a number: \"))\n",
    "sum1=sumPdivisors(n)\n",
    "if (sum1==n):\n",
    "    print(\"The sum of all divisors of number {} is equal to the number {}. Hence the number is perfect number\".format(n,sum1))\n",
    "else:\n",
    "    print(\"The number is not perfect.\")"
   ]
  },
  {
   "cell_type": "raw",
   "metadata": {},
   "source": [
    "11. Two different numbers are called amicable numbers if the sum of the proper divisors of each is equal to the other number. For example 220 and 284 are amicable numbers.\n",
    "Sum of proper divisors of 220 = 1+2+4+5+10+11+20+22+44+55+110 = 284\n",
    "Sum of proper divisors of 284 = 1+2+4+71+142 = 220\n",
    "Write a function to print pairs of amicable numbers in a range"
   ]
  },
  {
   "cell_type": "code",
   "execution_count": 4,
   "metadata": {},
   "outputs": [
    {
     "name": "stdout",
     "output_type": "stream",
     "text": [
      "Enter the lower limit of range: 1\n",
      "Enter the upper limit of range: 1000\n",
      "220 284\n"
     ]
    }
   ],
   "source": [
    "def amicableNum(lower, upper):\n",
    "    for num in range(lower, upper+1):\n",
    "        for num_ in range(num, upper+1):\n",
    "            if num != num_:\n",
    "                if amicablePair(num, num_):\n",
    "                    print(num, num_)\n",
    "        \n",
    "def amicablePair(num1, num2):\n",
    "    return (sumPdivisors(num1) == num2) and (sumPdivisors(num2) == num1)\n",
    "\n",
    "# Driver Code\n",
    "l=int(input(\"Enter the lower limit of range: \"))\n",
    "u=int(input(\"Enter the upper limit of range: \"))\n",
    "amicableNum(l,u)"
   ]
  },
  {
   "cell_type": "raw",
   "metadata": {},
   "source": [
    "12. Write a program which can filter odd numbers in a list by using filter function."
   ]
  },
  {
   "cell_type": "code",
   "execution_count": 5,
   "metadata": {},
   "outputs": [
    {
     "data": {
      "text/plain": [
       "[5, 19, 95]"
      ]
     },
     "execution_count": 5,
     "metadata": {},
     "output_type": "execute_result"
    }
   ],
   "source": [
    "def filterOdd(lst):\n",
    "    \"\"\"\n",
    "    Filter odd numbers from given list\n",
    "    \"\"\"\n",
    "    return list(filter(lambda num: (num%2 != 0), lst))\n",
    "\n",
    "filterOdd([0,2,5,8,19,20,34,95])"
   ]
  },
  {
   "cell_type": "raw",
   "metadata": {},
   "source": [
    "13. Write a program which can map() to make a list whose elements are cube of elements in a given list. "
   ]
  },
  {
   "cell_type": "code",
   "execution_count": 6,
   "metadata": {},
   "outputs": [
    {
     "data": {
      "text/plain": [
       "[1, 27, 125, 729, 3375]"
      ]
     },
     "execution_count": 6,
     "metadata": {},
     "output_type": "execute_result"
    }
   ],
   "source": [
    "def cube(lst):\n",
    "    \"\"\"\n",
    "    Returns the list of cubes of given number\n",
    "    \"\"\"\n",
    "    return list(map(lambda x: x**3, lst))\n",
    "\n",
    "cube([1, 3, 5, 9, 15])"
   ]
  },
  {
   "cell_type": "raw",
   "metadata": {},
   "source": [
    "14. Write a program which can map() and filter() to make a list whose elements are cube of even number in a given list."
   ]
  },
  {
   "cell_type": "code",
   "execution_count": 7,
   "metadata": {},
   "outputs": [
    {
     "data": {
      "text/plain": [
       "[0, 8, 512, 8000, 39304]"
      ]
     },
     "execution_count": 7,
     "metadata": {},
     "output_type": "execute_result"
    }
   ],
   "source": [
    "def evenCube(lst):\n",
    "    \"\"\"\n",
    "    Returns the even cubes from the given list of numbers\n",
    "    \"\"\"\n",
    "    return cube(list(filter(lambda num: (num%2) == 0, lst)))\n",
    "\n",
    "evenCube([0,2,5,8,19,20,34,95])"
   ]
  },
  {
   "cell_type": "code",
   "execution_count": null,
   "metadata": {},
   "outputs": [],
   "source": []
  },
  {
   "cell_type": "markdown",
   "metadata": {},
   "source": [
    "# END"
   ]
  }
 ],
 "metadata": {
  "kernelspec": {
   "display_name": "Python 3",
   "language": "python",
   "name": "python3"
  },
  "language_info": {
   "codemirror_mode": {
    "name": "ipython",
    "version": 3
   },
   "file_extension": ".py",
   "mimetype": "text/x-python",
   "name": "python",
   "nbconvert_exporter": "python",
   "pygments_lexer": "ipython3",
   "version": "3.8.3"
  }
 },
 "nbformat": 4,
 "nbformat_minor": 4
}
