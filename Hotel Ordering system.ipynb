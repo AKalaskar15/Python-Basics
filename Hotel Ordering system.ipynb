{
 "cells": [
  {
   "cell_type": "markdown",
   "metadata": {},
   "source": [
    "# Approach 1"
   ]
  },
  {
   "cell_type": "raw",
   "metadata": {},
   "source": [
    "We will ask user for the amount they want to spend on food and then continue with the ordering of food."
   ]
  },
  {
   "cell_type": "code",
   "execution_count": 1,
   "metadata": {},
   "outputs": [
    {
     "name": "stdout",
     "output_type": "stream",
     "text": [
      "Welcome to Our Restaurant\n",
      "Our menu for today is:  {'Bread': 20, 'Rice': 70, 'Vegetable': 180, 'Daal': 75, 'Sweet': 35}\n",
      "Enter total amount to be spent on food: 100\n",
      "Enter dish of your choice:Vegetable\n",
      "Not enough amount to buy this dish.\n",
      "Enter YES if you need to continue else enter NO: NO\n",
      "Thanks for your Order.\n"
     ]
    }
   ],
   "source": [
    "menu={\"Bread\":20,\"Rice\":70,\"Vegetable\":180,\"Daal\":75,\"Sweet\":35}\n",
    "print(\"Welcome to Our Restaurant\")\n",
    "print(\"Our menu for today is: \",menu)\n",
    "amount=int(input(\"Enter total amount to be spent on food: \"))\n",
    "while amount>=20:\n",
    "    order=input(\"Enter dish of your choice:\")\n",
    "    flag=0\n",
    "    for key in menu:\n",
    "        if(key==order):\n",
    "            if(amount>menu[key]):\n",
    "                amount=amount-menu[key]\n",
    "                print(\"Order Placed!\")\n",
    "                flag=1\n",
    "            else:\n",
    "                print(\"Not enough amount to buy this dish.\")\n",
    "                flag=1\n",
    "    if(flag==0):    \n",
    "        print(\"Sorry! We do not have the dish.\")\n",
    "    wish=input(\"Enter YES if you need to continue else enter NO: \")\n",
    "    if(wish==\"YES\"):\n",
    "        continue\n",
    "    else:\n",
    "        break\n",
    "print(\"Thanks for visiting out Hotel.\")"
   ]
  },
  {
   "cell_type": "markdown",
   "metadata": {},
   "source": [
    "# Approach 2"
   ]
  },
  {
   "cell_type": "code",
   "execution_count": 11,
   "metadata": {},
   "outputs": [
    {
     "name": "stdout",
     "output_type": "stream",
     "text": [
      "Welcome to Our Restaurant\n",
      "Our menu for today is:  {'Bread': 20, 'Rice': 70, 'Vegetable': 80, 'Daal': 75, 'Sweet': 35}\n",
      "Enter dish of your choice:Bread\n",
      "Enter YES if you need to continue else enter NO: NO\n",
      "Amount to be paid:  20\n",
      "Thanks for visiting out Hotel.\n"
     ]
    }
   ],
   "source": [
    "menu={\"Bread\":20,\"Rice\":70,\"Vegetable\":80,\"Daal\":75,\"Sweet\":35}\n",
    "print(\"Welcome to Our Restaurant\")\n",
    "print(\"Our menu for today is: \",menu)\n",
    "wish='YES'\n",
    "while wish=='YES':\n",
    "    flag=0\n",
    "    amount=0\n",
    "    order=input(\"Enter dish of your choice:\")\n",
    "    for key in menu:\n",
    "        if(key==order):\n",
    "            amount=amount+menu[key]\n",
    "            flag=1\n",
    "    if(flag==0):\n",
    "        print(\"Sorry! We do not have the dish.\")\n",
    "    wish=input(\"Enter YES if you need to continue else enter NO: \")\n",
    "    if(wish==\"YES\"):\n",
    "        continue\n",
    "    else:\n",
    "        break\n",
    "print(\"Amount to be paid: \",amount)\n",
    "print(\"Thanks for visiting out Hotel.\")   "
   ]
  },
  {
   "cell_type": "code",
   "execution_count": null,
   "metadata": {},
   "outputs": [],
   "source": []
  }
 ],
 "metadata": {
  "kernelspec": {
   "display_name": "Python 3",
   "language": "python",
   "name": "python3"
  },
  "language_info": {
   "codemirror_mode": {
    "name": "ipython",
    "version": 3
   },
   "file_extension": ".py",
   "mimetype": "text/x-python",
   "name": "python",
   "nbconvert_exporter": "python",
   "pygments_lexer": "ipython3",
   "version": "3.8.3"
  }
 },
 "nbformat": 4,
 "nbformat_minor": 4
}
