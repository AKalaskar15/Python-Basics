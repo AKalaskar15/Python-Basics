{
 "cells": [
  {
   "cell_type": "markdown",
   "metadata": {},
   "source": [
    "# Practice Problems for Final Exam"
   ]
  },
  {
   "cell_type": "markdown",
   "metadata": {},
   "source": [
    "#### Q1. Write a function ball_collide that takes two balls as parameters and computes if they are colliding. Your function should return a Boolean representing whether or not the balls are colliding. Hint: Represent a ball on a plane as a tuple of (x, y, r), r being the radius If (distance between two balls centers) <= (sum of their radii) then (they are colliding) b) Find mean, median, mode for the given set of numbers in a list."
   ]
  },
  {
   "cell_type": "code",
   "execution_count": 7,
   "metadata": {},
   "outputs": [
    {
     "name": "stdout",
     "output_type": "stream",
     "text": [
      "1 2 1\n",
      "7 6 1\n",
      "(1, 2, 1) (7, 6, 1)\n",
      "The balls will not collide.\n"
     ]
    }
   ],
   "source": [
    "def ball_collide(ball1,ball2):\n",
    "    dis_bet_balls=(((ball2[0]-ball1[0])**2)+((ball2[1]-ball1[1])**2))**0.5\n",
    "    sum_radii=(ball1[2]+ball2[2])\n",
    "    if(dis_bet_balls<=sum_radii):\n",
    "        return True\n",
    "    else:\n",
    "        return False\n",
    "ball1=tuple(map(int, input().split()))\n",
    "ball2=tuple(map(int, input().split()))\n",
    "print(ball1,ball2)\n",
    "collision=ball_collide(ball1,ball2)\n",
    "if(collision==True):\n",
    "    print(\"The balls will collide.\")\n",
    "else:\n",
    "    print(\"The balls will not collide.\")"
   ]
  },
  {
   "cell_type": "markdown",
   "metadata": {},
   "source": [
    "#### Q2. Create two data frames using two Dicts, Merge two data frames, and append second data frame as a new column to first data frame."
   ]
  },
  {
   "cell_type": "code",
   "execution_count": null,
   "metadata": {},
   "outputs": [],
   "source": []
  },
  {
   "cell_type": "markdown",
   "metadata": {},
   "source": [
    "#### Q3. Write a Python program to a) Compute the frequency of the words from the input. The output should output after sorting the key alphanumerically. b) Program that accepts a comma separated sequence of words as input and prints the words in a comma-separated sequence after sorting them alphabetically."
   ]
  },
  {
   "cell_type": "code",
   "execution_count": 17,
   "metadata": {},
   "outputs": [
    {
     "name": "stdout",
     "output_type": "stream",
     "text": [
      "Start typing.....\n",
      "apoorva is a good girl,, she likes to dance, she likes to eat, she does exercise\n",
      "The input from user based on words is as: {'apoorva': 1, 'is': 1, 'a': 1, 'good': 1, 'girl,,': 1, 'she': 3, 'likes': 2, 'to': 2, 'dance,': 1, 'eat,': 1, 'does': 1, 'exercise': 1}\n",
      "the sorted input from user is as: [('a', 1), ('apoorva', 1), ('dance,', 1), ('does', 1), ('eat,', 1), ('exercise', 1), ('girl,,', 1), ('good', 1), ('is', 1), ('likes', 2), ('she', 3), ('to', 2)]\n"
     ]
    }
   ],
   "source": [
    "def input_words(text):\n",
    "    freq=dict()\n",
    "    for i in text.split():\n",
    "        freq[i]=freq.get(i,0)+1\n",
    "    print(\"The input from user based on words is as:\",freq)\n",
    "    print(\"the sorted input from user is as:\",sorted(freq.items()))\n",
    "       \n",
    "text=input(\"Start typing.....\\n\")\n",
    "input_words(text)"
   ]
  },
  {
   "cell_type": "markdown",
   "metadata": {},
   "source": [
    "#### Q4.TIC-TAC-TOE Two player Game Develop and test a python program that lets two players play tic-tac-toe. Let player 1 be X and player 2 be O. Device a method for each player to indicate where they wish to place their symbol. The program should terminate if either there is a winner, or if the game results in a tie. The tic-tac-toe board should be displayed after every move as shown below\n",
    "#### X _ X\n",
    "#### O O _\n",
    "#### X X O"
   ]
  },
  {
   "cell_type": "code",
   "execution_count": 32,
   "metadata": {},
   "outputs": [
    {
     "name": "stdout",
     "output_type": "stream",
     "text": [
      "Let's play TIC-TAC-TOE!!!\n",
      " | | \n",
      "-+-+-\n",
      " | | \n",
      "-+-+-\n",
      " | | \n",
      "Turn of:X! Enter your desired position: \n",
      "7\n",
      "X| | \n",
      "-+-+-\n",
      " | | \n",
      "-+-+-\n",
      " | | \n",
      "Turn of:O! Enter your desired position: \n",
      "2\n",
      "X| | \n",
      "-+-+-\n",
      " | | \n",
      "-+-+-\n",
      " |O| \n",
      "Turn of:X! Enter your desired position: \n",
      "3\n",
      "X| | \n",
      "-+-+-\n",
      " | | \n",
      "-+-+-\n",
      " |O|X\n",
      "Turn of:O! Enter your desired position: \n",
      "5\n",
      "X| | \n",
      "-+-+-\n",
      " |O| \n",
      "-+-+-\n",
      " |O|X\n",
      "Turn of:X! Enter your desired position: \n",
      "8\n",
      "X|X| \n",
      "-+-+-\n",
      " |O| \n",
      "-+-+-\n",
      " |O|X\n",
      "Turn of:O! Enter your desired position: \n",
      "6\n",
      "X|X| \n",
      "-+-+-\n",
      " |O|O\n",
      "-+-+-\n",
      " |O|X\n",
      "Turn of:X! Enter your desired position: \n",
      "9\n",
      "X|X|X\n",
      "-+-+-\n",
      " |O|O\n",
      "-+-+-\n",
      " |O|X\n",
      "\n",
      "Game Over.\n",
      "\n",
      " **** X won. ****\n",
      "Do want to play Again?(YES/NO)NO\n"
     ]
    }
   ],
   "source": [
    "theBoard = {'7': ' ' , '8': ' ' , '9': ' ' ,\n",
    "            '4': ' ' , '5': ' ' , '6': ' ' ,\n",
    "            '1': ' ' , '2': ' ' , '3': ' ' }\n",
    "\n",
    "board_keys = []\n",
    "\n",
    "for key in theBoard:\n",
    "    board_keys.append(key)\n",
    "\n",
    "def printBoard(board):\n",
    "    print(board['7'] + '|' + board['8'] + '|' + board['9'])\n",
    "    print('-+-+-')\n",
    "    print(board['4'] + '|' + board['5'] + '|' + board['6'])\n",
    "    print('-+-+-')\n",
    "    print(board['1'] + '|' + board['2'] + '|' + board['3'])\n",
    "\n",
    "def game():\n",
    "\n",
    "    turn = 'X'\n",
    "    count = 0\n",
    "    print(\"Let's play TIC-TAC-TOE!!!\")\n",
    "    for i in range(10):\n",
    "        printBoard(theBoard)\n",
    "        print(\"Turn of:\" + turn + \"! Enter your desired position: \")\n",
    "        move = input()        \n",
    "\n",
    "        if theBoard[move] == ' ':\n",
    "            theBoard[move] = turn\n",
    "            count += 1\n",
    "        else:\n",
    "            print(\"That place is already filled.\\nMove to which place?\")\n",
    "            continue\n",
    "\n",
    "        if count >= 5:\n",
    "            if theBoard['7'] == theBoard['8'] == theBoard['9'] != ' ': \n",
    "                printBoard(theBoard)\n",
    "                print(\"\\nGame Over.\\n\")                \n",
    "                print(\" **** \" +turn + \" won. ****\")                \n",
    "                break\n",
    "            elif theBoard['4'] == theBoard['5'] == theBoard['6'] != ' ': \n",
    "                printBoard(theBoard)\n",
    "                print(\"\\nGame Over.\\n\")                \n",
    "                print(\" **** \" +turn + \" won. ****\")\n",
    "                break\n",
    "            elif theBoard['1'] == theBoard['2'] == theBoard['3'] != ' ': \n",
    "                printBoard(theBoard)\n",
    "                print(\"\\nGame Over.\\n\")                \n",
    "                print(\" **** \" +turn + \" won. ****\")\n",
    "                break\n",
    "            elif theBoard['1'] == theBoard['4'] == theBoard['7'] != ' ': \n",
    "                printBoard(theBoard)\n",
    "                print(\"\\nGame Over.\\n\")                \n",
    "                print(\" **** \" +turn + \" won. ****\")\n",
    "                break\n",
    "            elif theBoard['2'] == theBoard['5'] == theBoard['8'] != ' ': \n",
    "                printBoard(theBoard)\n",
    "                print(\"\\nGame Over.\\n\")                \n",
    "                print(\" **** \" +turn + \" won. ****\")\n",
    "                break\n",
    "            elif theBoard['3'] == theBoard['6'] == theBoard['9'] != ' ': \n",
    "                printBoard(theBoard)\n",
    "                print(\"\\nGame Over.\\n\")                \n",
    "                print(\" **** \" +turn + \" won. ****\")\n",
    "                break \n",
    "            elif theBoard['7'] == theBoard['5'] == theBoard['3'] != ' ': \n",
    "                printBoard(theBoard)\n",
    "                print(\"\\nGame Over.\\n\")                \n",
    "                print(\" **** \" +turn + \" won. ****\")\n",
    "                break\n",
    "            elif theBoard['1'] == theBoard['5'] == theBoard['9'] != ' ': \n",
    "                printBoard(theBoard)\n",
    "                print(\"\\nGame Over.\\n\")                \n",
    "                print(\" **** \" +turn + \" won. ****\")\n",
    "                break \n",
    "\n",
    "        if count == 9:\n",
    "            print(\"\\nGame Over.\\n\")                \n",
    "            print(\"It's a Tie!!\")\n",
    "\n",
    "        # Now we have to change the player after every move.\n",
    "        if turn =='X':\n",
    "            turn = 'O'\n",
    "        else:\n",
    "            turn = 'X'        \n",
    "    \n",
    "    # Now we will ask if player wants to restart the game or not.\n",
    "    restart = input(\"Do want to play Again?(YES/NO)\")\n",
    "    if restart == \"yes\" or restart == \"YES\":  \n",
    "        for key in board_keys:\n",
    "            theBoard[key] = \" \"\n",
    "\n",
    "        game()\n",
    "\n",
    "# Driver Code\n",
    "game()"
   ]
  },
  {
   "cell_type": "markdown",
   "metadata": {},
   "source": [
    "#### Q5.Write a python function named moderateDays that is given a dictionary containing the average daily temperature for each day of a week and returns a list of the days in which the average temperature was between 70and 79 degrees."
   ]
  },
  {
   "cell_type": "code",
   "execution_count": 23,
   "metadata": {},
   "outputs": [
    {
     "name": "stdout",
     "output_type": "stream",
     "text": [
      "Enter Monday's temperature: 34\n",
      "Enter Tuesday's temperature: 76\n",
      "Enter Wednesday's temperature: 65\n",
      "Enter Thursday's temperature: 73\n",
      "Enter Friday's temperature: 79\n",
      "Enter Saturday's temperature: 71\n",
      "Enter Sunday's temperature: 90\n",
      "Days in which the average temperature was between 70 and 79 degrees are: \n",
      " ['Tuesday', 'Thursday', 'Saturday']\n"
     ]
    }
   ],
   "source": [
    "def moderateDays(temp_week):\n",
    "    for key in temp_week:\n",
    "        if(70<temp_week[key]<79):\n",
    "            avg_temp_days.append(key)\n",
    "    print(\"Days in which the average temperature was between 70 and 79 degrees are: \\n\",avg_temp_days)\n",
    "\n",
    "days=dict()\n",
    "avg_temp_days=[]\n",
    "days['Monday']=int(input(\"Enter Monday's temperature: \"))\n",
    "days['Tuesday']=int(input(\"Enter Tuesday's temperature: \"))\n",
    "days['Wednesday']=int(input(\"Enter Wednesday's temperature: \"))\n",
    "days['Thursday']=int(input(\"Enter Thursday's temperature: \"))\n",
    "days['Friday']=int(input(\"Enter Friday's temperature: \"))\n",
    "days['Saturday']=int(input(\"Enter Saturday's temperature: \"))\n",
    "days['Sunday']=int(input(\"Enter Sunday's temperature: \"))\n",
    "moderateDays(days)"
   ]
  },
  {
   "cell_type": "markdown",
   "metadata": {},
   "source": [
    "#### Q6.Parentheses matching program Implement and test a python program that determines if all parenthesis in an entered line of code form matching pair’s .Note: Pairs of parentheses may be nested."
   ]
  },
  {
   "cell_type": "code",
   "execution_count": 29,
   "metadata": {},
   "outputs": [
    {
     "name": "stdout",
     "output_type": "stream",
     "text": [
      "(Apoorva[is a good{girl}])\n",
      "There are matching pairs of paranthesis.\n"
     ]
    }
   ],
   "source": [
    "def check_paranthesis(string):\n",
    "    count=0\n",
    "    for i in string:\n",
    "        if i in open_bracket:\n",
    "            count=count+1\n",
    "        elif i in close_bracket:\n",
    "            count=count-1\n",
    "        else:\n",
    "            continue\n",
    "    if(count==0):\n",
    "        return True\n",
    "    else:\n",
    "        return False\n",
    "    \n",
    "# Driver Code\n",
    "open_bracket=[\"[\",\"(\",\"{\"]\n",
    "close_bracket=[\"]\",\")\",\"}\"]\n",
    "string=input()\n",
    "count=0\n",
    "output=check_paranthesis(string)\n",
    "if output is True:\n",
    "    print(\"There are matching pairs of paranthesis.\")\n",
    "else:\n",
    "    print(\"Paranthesis are not in sync.\")"
   ]
  },
  {
   "cell_type": "markdown",
   "metadata": {},
   "source": [
    "# END"
   ]
  }
 ],
 "metadata": {
  "kernelspec": {
   "display_name": "Python 3",
   "language": "python",
   "name": "python3"
  },
  "language_info": {
   "codemirror_mode": {
    "name": "ipython",
    "version": 3
   },
   "file_extension": ".py",
   "mimetype": "text/x-python",
   "name": "python",
   "nbconvert_exporter": "python",
   "pygments_lexer": "ipython3",
   "version": "3.8.3"
  }
 },
 "nbformat": 4,
 "nbformat_minor": 4
}
