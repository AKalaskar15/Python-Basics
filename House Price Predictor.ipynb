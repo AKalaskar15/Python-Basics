{
 "cells": [
  {
   "cell_type": "raw",
   "metadata": {},
   "source": [
    "Create a house price prediction calculator which needs following inputs from the user \n",
    "1. size of house in square ft\n",
    "2. no of rooms in house(i.e 2/3/4/5 BHK apartments)\n",
    "3. no of balconies in house\n",
    "4. no of Bathrooms/washrooms in house.\n",
    "5. Distance of market place from the house(** this factor has variation if the distance is less than 500m the cost of house is more, if more than 500 m and less than 5KM the price will be little less and so on )\n",
    "6. distance of Hospital and school from the house \n",
    "\n",
    "Your job is to define the function depending on your requirement. Take the input from the user for all above six points  and calculate the house price. (you can assume prices of certain things and have a dictionary to save it )"
   ]
  },
  {
   "cell_type": "markdown",
   "metadata": {},
   "source": [
    "# Approach 1"
   ]
  },
  {
   "cell_type": "code",
   "execution_count": 1,
   "metadata": {},
   "outputs": [],
   "source": [
    "sqfeet_rate=3000\n",
    "per_room=5000\n",
    "per_balcony=2500\n",
    "per_washroom=1760"
   ]
  },
  {
   "cell_type": "code",
   "execution_count": 2,
   "metadata": {},
   "outputs": [],
   "source": [
    "def price_predictor(sqfeet,room,balcony,washroom,dis_market,dis_hospital,dis_school):\n",
    "    \n",
    "    rate=(sqfeet_rate*sqfeet)+(per_room*room)+(per_balcony*balcony)+(per_washroom*washroom)\n",
    "    if(dis_market<=0.5):\n",
    "        rate1=15000\n",
    "    elif(dis_market>0.5 and dis_market<5):\n",
    "        rate1=10000\n",
    "    else:\n",
    "        rate1=5000\n",
    "        \n",
    "    if(dis_hospital<=0.5):\n",
    "        rate2=20000\n",
    "    elif(dis_hospital>0.5 and dis_hospital<5):\n",
    "        rate2=13000\n",
    "    else:\n",
    "        rate2=7500\n",
    "        \n",
    "    if(dis_school<=0.7):\n",
    "        rate3=5000\n",
    "    elif(dis_school>0.7 and dis_school<5):\n",
    "        rate3=10000\n",
    "    else:\n",
    "        rate3=15000\n",
    "    rate=rate+rate1+rate2+rate3\n",
    "    return(rate)"
   ]
  },
  {
   "cell_type": "code",
   "execution_count": 4,
   "metadata": {},
   "outputs": [
    {
     "name": "stdout",
     "output_type": "stream",
     "text": [
      "Welcome to House Price Predictor!\n",
      " We will help you to estimate you spendings of your dream home.\n",
      "Area in sqfeet for your house: 1500\n",
      "Planned number of rooms: 3\n",
      "Number of balconies: 2\n",
      "Number of washrooms: 4\n",
      "Distance to the market from house in kms: 1\n",
      "Distance to the hospital from house in kms: 1\n",
      "Distance to the school from house in kms: 1\n"
     ]
    }
   ],
   "source": [
    "print(\"Welcome to House Price Predictor!\\nWe will help you to estimate you spendings of your dream home.\")\n",
    "sqfeet=int(input(\"Area in sqfeet for your house: \"))\n",
    "room=int(input(\"Planned number of rooms: \"))\n",
    "balcony=int(input(\"Number of balconies: \"))\n",
    "washroom=int(input(\"Number of washrooms: \"))\n",
    "dis_market=int(input(\"Distance to the market from house in kms: \"))\n",
    "dis_hospital=int(input(\"Distance to the hospital from house in kms: \"))\n",
    "dis_school=int(input(\"Distance to the school from house in kms: \"))"
   ]
  },
  {
   "cell_type": "code",
   "execution_count": 5,
   "metadata": {},
   "outputs": [
    {
     "name": "stdout",
     "output_type": "stream",
     "text": [
      "The estimated price of your dream house is Rs.{} only. 4560040\n"
     ]
    }
   ],
   "source": [
    "rate=price_predictor(sqfeet,room,balcony,washroom,dis_market,dis_hospital,dis_school)\n",
    "print(\"The estimated price of your dream house is Rs.{} only.\",rate)"
   ]
  },
  {
   "cell_type": "markdown",
   "metadata": {},
   "source": [
    "# Approach 2"
   ]
  },
  {
   "cell_type": "code",
   "execution_count": 9,
   "metadata": {},
   "outputs": [],
   "source": [
    "rates={\"persqfeet\":3000,\"rooms\":5000,\"balcony\":2500,\"washroom\":1760}"
   ]
  },
  {
   "cell_type": "code",
   "execution_count": 12,
   "metadata": {},
   "outputs": [],
   "source": [
    "def price_predictor(choice):\n",
    "    \n",
    "    rate=(rates[\"persqfeet\"]*choice[\"sqfeet\"])+(rates[\"rooms\"]*choice[\"no_room\"])+(rates[\"balcony\"]*choice[\"no_balcony\"])+(rates[\"washroom\"]*choice[\"no_washroom\"])\n",
    "    if(choice[\"dis_market\"]<=0.5):\n",
    "        rate1=15000\n",
    "    elif(choice[\"dis_market\"]>0.5 and choice[\"dis_market\"]<5):\n",
    "        rate1=10000\n",
    "    else:\n",
    "        rate1=5000\n",
    "        \n",
    "    if(choice[\"dis_hospital\"]<=0.5):\n",
    "        rate2=20000\n",
    "    elif(choice[\"dis_hospital\"]>0.5 and choice[\"dis_hospital\"]<5):\n",
    "        rate2=13000\n",
    "    else:\n",
    "        rate2=7500\n",
    "        \n",
    "    if(choice[\"dis_school\"]<=0.7):\n",
    "        rate3=5000\n",
    "    elif(choice[\"dis_school\"]>0.7 and choice[\"dis_school\"]<5):\n",
    "        rate3=10000\n",
    "    else:\n",
    "        rate3=15000\n",
    "    rate=rate+rate1+rate2+rate3\n",
    "    display(rate)\n",
    "\n",
    "def display(rate):\n",
    "    print(\"The estimated price of your dream house is Rs.{} only.\",rate)"
   ]
  },
  {
   "cell_type": "code",
   "execution_count": 13,
   "metadata": {},
   "outputs": [
    {
     "name": "stdout",
     "output_type": "stream",
     "text": [
      "Welcome to House Price Predictor!\n",
      "We will help you to estimate you spendings of your dream home.\n",
      "Area in sqfeet for your house: 1500\n",
      "Planned number of rooms: 3\n",
      "Number of balconies: 2\n",
      "Number of washrooms: 4\n",
      "Distance to the market from house in kms: 1\n",
      "Distance to the hospital from house in kms: 1\n",
      "Distance to the school from house in kms: 1\n",
      "The estimated price of your dream house is Rs.{} only. 4560040\n"
     ]
    }
   ],
   "source": [
    "print(\"Welcome to House Price Predictor!\\nWe will help you to estimate you spendings of your dream home.\")\n",
    "choice={}\n",
    "choice[\"sqfeet\"]=int(input(\"Area in sqfeet for your house: \"))\n",
    "choice[\"no_room\"]=int(input(\"Planned number of rooms: \"))\n",
    "choice[\"no_balcony\"]=int(input(\"Number of balconies: \"))\n",
    "choice[\"no_washroom\"]=int(input(\"Number of washrooms: \"))\n",
    "choice[\"dis_market\"]=int(input(\"Distance to the market from house in kms: \"))\n",
    "choice[\"dis_hospital\"]=int(input(\"Distance to the hospital from house in kms: \"))\n",
    "choice[\"dis_school\"]=int(input(\"Distance to the school from house in kms: \"))\n",
    "\n",
    "#choice\n",
    "price_predictor(choice)\n",
    "#display(rate)"
   ]
  },
  {
   "cell_type": "code",
   "execution_count": null,
   "metadata": {},
   "outputs": [],
   "source": []
  },
  {
   "cell_type": "code",
   "execution_count": null,
   "metadata": {},
   "outputs": [],
   "source": []
  },
  {
   "cell_type": "code",
   "execution_count": null,
   "metadata": {},
   "outputs": [],
   "source": []
  },
  {
   "cell_type": "code",
   "execution_count": null,
   "metadata": {},
   "outputs": [],
   "source": []
  }
 ],
 "metadata": {
  "kernelspec": {
   "display_name": "Python 3",
   "language": "python",
   "name": "python3"
  },
  "language_info": {
   "codemirror_mode": {
    "name": "ipython",
    "version": 3
   },
   "file_extension": ".py",
   "mimetype": "text/x-python",
   "name": "python",
   "nbconvert_exporter": "python",
   "pygments_lexer": "ipython3",
   "version": "3.8.3"
  }
 },
 "nbformat": 4,
 "nbformat_minor": 4
}
