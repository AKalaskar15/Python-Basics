{
 "cells": [
  {
   "cell_type": "markdown",
   "metadata": {},
   "source": [
    "# Cricket Performance Analysis"
   ]
  },
  {
   "cell_type": "code",
   "execution_count": 9,
   "metadata": {},
   "outputs": [],
   "source": [
    "def batsmen(runs):\n",
    "    sum1=0\n",
    "    flag=0\n",
    "    for key in runs:\n",
    "        sum1=sum1+runs[key]\n",
    "        if(flag==0):\n",
    "            if runs[key]>50:\n",
    "                flag=1\n",
    "    avg=sum1/5\n",
    "    if(avg>30 or flag==1):\n",
    "        print(\"Congratulations! You are eligible to play next match.\")\n",
    "    else:\n",
    "        print(\"You are unable to play the next match!!!\")\n",
    "        \n",
    "def bowler(wickets):\n",
    "    wicket=0\n",
    "    for key in wickets:\n",
    "        wicket=wicket+wickets[key]\n",
    "    if(wicket<3):\n",
    "        print(\"You are unable to play the next match!!!\")\n",
    "    else:\n",
    "        print(\"Congratulations! You are eligible to play next match.\")\n"
   ]
  },
  {
   "cell_type": "code",
   "execution_count": 10,
   "metadata": {},
   "outputs": [
    {
     "name": "stdout",
     "output_type": "stream",
     "text": [
      "Enter name of the player: Apoorva\n",
      "Enter the type of player(Batsmen/Bowler): Batsmen\n",
      "Enter runs scored in 1st match: 1\n",
      "Enter runs scored in 2nd match: 2\n",
      "Enter runs scored in 3rd match: 55\n",
      "Enter runs scored in 4th match: 3\n",
      "Enter runs scored in 5th match: 4\n",
      "The match scores are as:\n",
      " {'1st Match': 1, '2nd Match': 2, '3rd Match': 55, '4th Match': 3, '5th Match': 4}\n",
      "Congratulations! You are eligible to play next match.\n"
     ]
    }
   ],
   "source": [
    "runs={}\n",
    "wickets={}\n",
    "name=input(\"Enter name of the player: \")\n",
    "player_type=input(\"Enter the type of player(Batsmen/Bowler): \")\n",
    "if(player_type=='Batsmen'):\n",
    "    runs[\"1st Match\"]=int(input(\"Enter runs scored in 1st match: \"))\n",
    "    runs[\"2nd Match\"]=int(input(\"Enter runs scored in 2nd match: \"))\n",
    "    runs[\"3rd Match\"]=int(input(\"Enter runs scored in 3rd match: \"))\n",
    "    runs[\"4th Match\"]=int(input(\"Enter runs scored in 4th match: \"))\n",
    "    runs[\"5th Match\"]=int(input(\"Enter runs scored in 5th match: \"))\n",
    "    print(\"The match scores are as:\\n\",runs)\n",
    "    batsmen(runs)\n",
    "elif(player_type=='Bowler'):\n",
    "    wickets[\"1st Match\"]=int(input(\"Enter wickets taken in 1st match: \"))\n",
    "    wickets[\"2nd Match\"]=int(input(\"Enter wickets taken in 2nd match: \"))\n",
    "    wickets[\"3rd Match\"]=int(input(\"Enter wickets taken in 3rd match: \"))\n",
    "    wickets[\"4th Match\"]=int(input(\"Enter wickets taken in 4th match: \"))\n",
    "    wickets[\"5th Match\"]=int(input(\"Enter wickets taken in 5th match: \"))\n",
    "    print(\"The match scores are as:\\n\",wickets)\n",
    "    bowler(wickets)\n",
    "else:\n",
    "    raise Incorrect_Type\n"
   ]
  },
  {
   "cell_type": "markdown",
   "metadata": {},
   "source": [
    "# END"
   ]
  }
 ],
 "metadata": {
  "kernelspec": {
   "display_name": "Python 3",
   "language": "python",
   "name": "python3"
  },
  "language_info": {
   "codemirror_mode": {
    "name": "ipython",
    "version": 3
   },
   "file_extension": ".py",
   "mimetype": "text/x-python",
   "name": "python",
   "nbconvert_exporter": "python",
   "pygments_lexer": "ipython3",
   "version": "3.8.3"
  }
 },
 "nbformat": 4,
 "nbformat_minor": 4
}
