{
 "cells": [
  {
   "cell_type": "markdown",
   "metadata": {},
   "source": [
    "# Rolling Dice"
   ]
  },
  {
   "cell_type": "code",
   "execution_count": 2,
   "metadata": {},
   "outputs": [],
   "source": [
    "import random as rd    "
   ]
  },
  {
   "cell_type": "code",
   "execution_count": 15,
   "metadata": {},
   "outputs": [],
   "source": [
    "def one_dice():\n",
    "    val=rd.randint(1,6)\n",
    "    print(\"The output is {}\".format(val))\n",
    "\n",
    "def two_dice():\n",
    "    val1=rd.randint(1,6)\n",
    "    val2=rd.randint(1,6)\n",
    "    print(\"The output is {} and {}\".format(val1,val2))"
   ]
  },
  {
   "cell_type": "code",
   "execution_count": 26,
   "metadata": {},
   "outputs": [
    {
     "name": "stdout",
     "output_type": "stream",
     "text": [
      "Welcome to Dice Rolling Code!\n",
      "Enter the number of players playing the game: 2\n",
      "Name of Player 1:A\n",
      "Name of Player 2:K\n",
      "How many dice are needed for the game?2\n",
      "A's turn:\n",
      "The output is 4 and 2\n",
      "K's turn:\n",
      "The output is 5 and 2\n",
      "Do you wish to Continue?(Y/N)N\n",
      "Thanks for Playing!!!\n"
     ]
    }
   ],
   "source": [
    "# Driver Code\n",
    "name=[]\n",
    "val1=[]\n",
    "flag=True\n",
    "print(\"Welcome to Dice Rolling Code!\")\n",
    "no_of_players=int(input(\"Enter the number of players playing the game: \"))\n",
    "for i in range (no_of_players):\n",
    "    name1=input(\"Name of Player {}:\".format(i+1))\n",
    "    name.append(name1)\n",
    "no_of_dice=int(input(\"How many dice are needed for the game?\"))\n",
    "while(flag==True):\n",
    "    if(no_of_dice==1):\n",
    "        for i in range (no_of_players):\n",
    "            print(\"{}'s turn:\".format(name[i]))\n",
    "            one_dice()\n",
    "    elif(no_of_dice==2):\n",
    "        for i in range (no_of_players):\n",
    "            print(\"{}'s turn:\".format(name[i]))\n",
    "            two_dice() \n",
    "    choice=input(\"Do you wish to Continue?(Y/N)\")\n",
    "    if(choice=='Y' or choice=='YES'):\n",
    "        flag=True\n",
    "    else:\n",
    "        flag=False\n",
    "print(\"Thanks for Playing!!!\")"
   ]
  },
  {
   "cell_type": "code",
   "execution_count": null,
   "metadata": {},
   "outputs": [],
   "source": []
  },
  {
   "cell_type": "code",
   "execution_count": null,
   "metadata": {},
   "outputs": [],
   "source": []
  }
 ],
 "metadata": {
  "kernelspec": {
   "display_name": "Python 3",
   "language": "python",
   "name": "python3"
  },
  "language_info": {
   "codemirror_mode": {
    "name": "ipython",
    "version": 3
   },
   "file_extension": ".py",
   "mimetype": "text/x-python",
   "name": "python",
   "nbconvert_exporter": "python",
   "pygments_lexer": "ipython3",
   "version": "3.8.3"
  }
 },
 "nbformat": 4,
 "nbformat_minor": 4
}
