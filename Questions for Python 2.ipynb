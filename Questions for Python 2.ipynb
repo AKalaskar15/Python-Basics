{
 "cells": [
  {
   "cell_type": "raw",
   "metadata": {},
   "source": [
    "1. Write a program to print the following pattern."
   ]
  },
  {
   "cell_type": "code",
   "execution_count": 15,
   "metadata": {},
   "outputs": [
    {
     "name": "stdout",
     "output_type": "stream",
     "text": [
      "Print equilateral triangle Pyramid using stars \n",
      "                *   \n",
      "               *  *   \n",
      "              *  *  *   \n",
      "             *  *  *  *   \n",
      "            *  *  *  *  *   \n",
      "           *  *  *  *  *  *   \n",
      "          *  *  *  *  *  *  *   \n",
      "         *  *  *  *  *  *  *  *   \n",
      "        *  *  *  *  *  *  *  *  *   \n"
     ]
    }
   ],
   "source": [
    "print(\"Print equilateral triangle Pyramid using stars \")\n",
    "size = 9\n",
    "m = (2 * size) - 2\n",
    "for i in range(0, size):\n",
    "    for j in range(0, m):\n",
    "        print(end=\" \")\n",
    "    m = m - 1  \n",
    "    for j in range(0, i + 1):\n",
    "        print(\"* \", end=' ')\n",
    "    print(\" \")"
   ]
  },
  {
   "cell_type": "raw",
   "metadata": {},
   "source": [
    "2. Print Pattern"
   ]
  },
  {
   "cell_type": "code",
   "execution_count": 19,
   "metadata": {},
   "outputs": [
    {
     "name": "stdout",
     "output_type": "stream",
     "text": [
      "Print equilateral triangle Pyramid with characters \n",
      "           0  \n",
      "          1 1  \n",
      "         2 2 2  \n",
      "        3 3 3 3  \n",
      "       4 4 4 4 4  \n",
      "      5 5 5 5 5 5  \n",
      "     6 6 6 6 6 6 6  \n"
     ]
    }
   ],
   "source": [
    "print(\"Print equilateral triangle Pyramid with characters \")\n",
    "size = 7\n",
    "asciiNumber = 65\n",
    "m = (2 * size) - 2\n",
    "for i in range(0, size):\n",
    "    for j in range(1, m):\n",
    "        print(end=\" \")\n",
    "    m = m - 1\n",
    "    for j in range(0, i + 1):\n",
    "        print(i, end=' ')\n",
    "    print(\" \")"
   ]
  },
  {
   "cell_type": "raw",
   "metadata": {},
   "source": [
    "3. Print pattern"
   ]
  },
  {
   "cell_type": "code",
   "execution_count": 1,
   "metadata": {},
   "outputs": [
    {
     "name": "stdout",
     "output_type": "stream",
     "text": [
      "Enter number of rows: 6\n",
      "A \n",
      "B C \n",
      "D E F \n",
      "G H I J \n",
      "K L M N O \n",
      "P Q R S T U \n"
     ]
    }
   ],
   "source": [
    "rows=int(input(\"Enter number of rows: \"))\n",
    "num=65\n",
    "for i in range (rows):\n",
    "    for j in range (i+1):\n",
    "        ch=chr(num)\n",
    "        print(ch,end=\" \")\n",
    "        num=num+1\n",
    "    print()"
   ]
  },
  {
   "cell_type": "raw",
   "metadata": {},
   "source": [
    "4. Write a program to find the largest of two numbers without using function."
   ]
  },
  {
   "cell_type": "code",
   "execution_count": 2,
   "metadata": {},
   "outputs": [
    {
     "name": "stdout",
     "output_type": "stream",
     "text": [
      "Enter 1st number: 4\n",
      "Enter 2nd number: 8\n",
      "The largest number is: 8\n"
     ]
    }
   ],
   "source": [
    "n1=int(input(\"Enter 1st number: \"))\n",
    "n2=int(input(\"Enter 2nd number: \"))\n",
    "large=max(n1,n2)\n",
    "print(\"The largest number is:\",large)"
   ]
  },
  {
   "cell_type": "raw",
   "metadata": {},
   "source": [
    "5. Write a program to find the largest of three numbers without using functions."
   ]
  },
  {
   "cell_type": "code",
   "execution_count": 5,
   "metadata": {},
   "outputs": [
    {
     "name": "stdout",
     "output_type": "stream",
     "text": [
      "Enter total number of elements : 5\n",
      "Enter 1 number: 34\n",
      "Enter 2 number: 78\n",
      "Enter 3 number: 99\n",
      "Enter 4 number: 33\n",
      "Enter 5 number: 56\n",
      "The numbers entered are:  [34, 78, 99, 33, 56]\n",
      "The largest number from list is:  99\n"
     ]
    }
   ],
   "source": [
    "n=int(input(\"Enter total number of elements : \"))\n",
    "list1=[]\n",
    "large=0\n",
    "for i in range(n):\n",
    "    item=int(input(\"Enter {} number: \".format(i+1)))\n",
    "    list1.append(item)\n",
    "print(\"The numbers entered are: \",list1)\n",
    "for i in range(n):\n",
    "    if(large<list1[i]):\n",
    "        large=list1[i]\n",
    "print(\"The largest number from list is: \",large)"
   ]
  },
  {
   "cell_type": "raw",
   "metadata": {},
   "source": [
    "6. Write a program to find the average of 10 numbers entered from the user."
   ]
  },
  {
   "cell_type": "code",
   "execution_count": 7,
   "metadata": {},
   "outputs": [
    {
     "name": "stdout",
     "output_type": "stream",
     "text": [
      "Enter total number of elements : 4\n",
      "Enter 1 number: 1\n",
      "Enter 2 number: 2\n",
      "Enter 3 number: 3\n",
      "Enter 4 number: 4\n",
      "The numbers entered are:  [1, 2, 3, 4]\n",
      "Average of the list is:  2.5\n"
     ]
    }
   ],
   "source": [
    "n=int(input(\"Enter total number of elements : \"))\n",
    "list1=[]\n",
    "sum1=0\n",
    "for i in range(n):\n",
    "    item=int(input(\"Enter {} number: \".format(i+1)))\n",
    "    list1.append(item)\n",
    "print(\"The numbers entered are: \",list1)\n",
    "for i in range(n):\n",
    "    sum1=sum1+list1[i]\n",
    "avg=sum1/n\n",
    "print(\"Average of the list is: \",avg)"
   ]
  },
  {
   "cell_type": "raw",
   "metadata": {},
   "source": [
    "7. Write a program to find even and odd numbers from the given list"
   ]
  },
  {
   "cell_type": "code",
   "execution_count": 8,
   "metadata": {},
   "outputs": [
    {
     "name": "stdout",
     "output_type": "stream",
     "text": [
      "How many elements are needed in the list: 8\n",
      "The generated list is:  [85, 77, 12, 60, 96, 3, 70, 61]\n",
      "The even numbers from the list are:  [12, 60, 96, 70]\n",
      "The odd numbers from the list are:  [85, 77, 3, 61]\n"
     ]
    }
   ],
   "source": [
    "import random as rd\n",
    "def sort(a):\n",
    "    for i in range(num):\n",
    "        if(a[i]%2==0):\n",
    "            even.append(a[i])\n",
    "        else:\n",
    "            odd.append(a[i])\n",
    "    print(\"The even numbers from the list are: \",even)\n",
    "    print(\"The odd numbers from the list are: \",odd)\n",
    "\n",
    "list1=[]\n",
    "even=[]\n",
    "odd=[]\n",
    "num=int(input(\"How many elements are needed in the list: \"))\n",
    "for i in range(num):\n",
    "    item=rd.randint(1,99)\n",
    "    list1.append(item)\n",
    "print(\"The generated list is: \",list1)\n",
    "sort(list1)"
   ]
  },
  {
   "cell_type": "raw",
   "metadata": {},
   "source": [
    "8. Write a program to append elements of various datatypes (total three elements 1 integer, 1 float and 1 string)"
   ]
  },
  {
   "cell_type": "code",
   "execution_count": null,
   "metadata": {},
   "outputs": [],
   "source": []
  },
  {
   "cell_type": "raw",
   "metadata": {},
   "source": [
    "9. Write a program to illustrate the difference between append and extend functions in list."
   ]
  },
  {
   "cell_type": "raw",
   "metadata": {},
   "source": [
    "Python append() method adds an element to a list, and the extend() method concatenates the first list with another list (or another iterable). When append() method adds its argument as a single element to the end of a list, the length of the list itself will increase by one. Whereas extend() method iterates over its argument adding each element to the list, extending the list. The length of the list will increase by however many elements were in the iterable argument."
   ]
  },
  {
   "cell_type": "code",
   "execution_count": 9,
   "metadata": {},
   "outputs": [
    {
     "name": "stdout",
     "output_type": "stream",
     "text": [
      "[1, 2, 3, [4, 5]]\n"
     ]
    }
   ],
   "source": [
    "# Append\n",
    "x = [1, 2, 3]\n",
    "x.append([4, 5])\n",
    "print (x)"
   ]
  },
  {
   "cell_type": "code",
   "execution_count": 10,
   "metadata": {},
   "outputs": [
    {
     "name": "stdout",
     "output_type": "stream",
     "text": [
      "[1, 2, 3, 4, 5]\n"
     ]
    }
   ],
   "source": [
    "# Extend\n",
    "x = [1, 2, 3]\n",
    "x.extend([4, 5])\n",
    "print (x)"
   ]
  },
  {
   "cell_type": "raw",
   "metadata": {},
   "source": [
    "10. Write a program to reverse a string input should be taken from the user."
   ]
  },
  {
   "cell_type": "code",
   "execution_count": 12,
   "metadata": {},
   "outputs": [
    {
     "name": "stdout",
     "output_type": "stream",
     "text": [
      "Enter a string: Apoorva Kalaskar\n",
      "The reverse of input string is:  raksalaK avroopA\n"
     ]
    }
   ],
   "source": [
    "string1=input(\"Enter a string: \")\n",
    "reverse=string1[: :-1]\n",
    "print(\"The reverse of input string is: \",reverse)"
   ]
  },
  {
   "cell_type": "raw",
   "metadata": {},
   "source": [
    "11. Write a program to reverse a number input should be taken from the user."
   ]
  },
  {
   "cell_type": "code",
   "execution_count": 13,
   "metadata": {},
   "outputs": [
    {
     "name": "stdout",
     "output_type": "stream",
     "text": [
      "Enter a number: 123456\n",
      "The reverse of input string is:  654321\n"
     ]
    }
   ],
   "source": [
    "string1=input(\"Enter a number: \")\n",
    "reverse=string1[: :-1]\n",
    "print(\"The reverse of input string is: \",reverse)"
   ]
  },
  {
   "cell_type": "raw",
   "metadata": {},
   "source": [
    "12. Write a program using functions to create a calculator (only +, -, * and /) operations should be performed."
   ]
  },
  {
   "cell_type": "code",
   "execution_count": 2,
   "metadata": {},
   "outputs": [
    {
     "name": "stdout",
     "output_type": "stream",
     "text": [
      "Welcome to Calculator\n",
      "Enter '1' for Addition Operation, '2' for Subtraction, '3' for Multiplication and '4' for Division: 2\n",
      "Enter 1st number: 10\n",
      "Enter 2nd number: 6\n",
      "The subtraction of 10 and 6 is = 4 \n"
     ]
    }
   ],
   "source": [
    "def calculator(c,a,b):\n",
    "    if(c==1):\n",
    "        sum1=a+b\n",
    "        print(\"The summation of {} and {} is = {} \".format(a,b,sum1))\n",
    "    elif(c==2):\n",
    "        sub=a-b\n",
    "        print(\"The subtraction of {} and {} is = {} \".format(a,b,sub))\n",
    "    elif(c==3):\n",
    "        mul=a*b\n",
    "        print(\"The multiplication of {} and {} is = {} \".format(a,b,mul))\n",
    "    else:\n",
    "        div=a/b\n",
    "        print(\"The division of {} and {} is = {} \".format(a,b,div))\n",
    "print(\"Welcome to Calculator\")\n",
    "choice=int(input(\"Enter '1' for Addition Operation, '2' for Subtraction, '3' for Multiplication and '4' for Division: \"))\n",
    "n1=int(input(\"Enter 1st number: \"))\n",
    "n2=int(input(\"Enter 2nd number: \"))\n",
    "calculator(choice,n1,n2)"
   ]
  },
  {
   "cell_type": "raw",
   "metadata": {},
   "source": [
    "13. Write a program to add all the elements in the list without using inbuilt function."
   ]
  },
  {
   "cell_type": "code",
   "execution_count": 3,
   "metadata": {},
   "outputs": [
    {
     "name": "stdout",
     "output_type": "stream",
     "text": [
      "Enter length of list: 5\n",
      "The generated list is:  [14, 43, 41, 27, 3]\n",
      "The sum of all elements of list is:  128\n"
     ]
    }
   ],
   "source": [
    "import random as rd\n",
    "list1=[]\n",
    "num=int(input(\"Enter length of list: \"))\n",
    "def add(list1):\n",
    "    sum1=0\n",
    "    for i in range(num):\n",
    "        sum1=sum1+list1[i]\n",
    "    print(\"The sum of all elements of list is: \",sum1)\n",
    "\n",
    "for i in range(num):\n",
    "    item=rd.randint(1,50)\n",
    "    list1.append(item)\n",
    "print(\"The generated list is: \",list1)\n",
    "add(list1)"
   ]
  },
  {
   "cell_type": "raw",
   "metadata": {},
   "source": [
    "14. Write a program to take two lists from the user and add the element present at same index from two list and create a third list. for e.g. element at index 1 of list 1 should get added with element at index 1 of list 2 and so on."
   ]
  },
  {
   "cell_type": "code",
   "execution_count": 5,
   "metadata": {},
   "outputs": [
    {
     "name": "stdout",
     "output_type": "stream",
     "text": [
      "Enter length of list: 4\n",
      "Enter 1 element for List 11\n",
      "Enter 2 element for List 12\n",
      "Enter 3 element for List 13\n",
      "Enter 4 element for List 14\n",
      "The generated list is:  [1, 2, 3, 4]\n",
      "Enter 1 element for List 26\n",
      "Enter 2 element for List 27\n",
      "Enter 3 element for List 28\n",
      "Enter 4 element for List 29\n",
      "The generated list is:  [6, 7, 8, 9]\n",
      "The sum of 2 lists on basis of index is:  [7, 9, 11, 13]\n"
     ]
    }
   ],
   "source": [
    "list1=[]\n",
    "list2=[]\n",
    "list3=[]\n",
    "num=int(input(\"Enter length of list: \"))\n",
    "for i in range(num):\n",
    "    item=int(input(\"Enter {} element for List 1 : \".format(i+1)))\n",
    "    list1.append(item)\n",
    "print(\"The generated list is: \",list1)\n",
    "for i in range(num):\n",
    "    item=int(input(\"Enter {} element for List 2 : \".format(i+1)))\n",
    "    list2.append(item)\n",
    "print(\"The generated list is: \",list2)\n",
    "for i in range(num):\n",
    "    item=list1[i]+list2[i]\n",
    "    list3.append(item)\n",
    "print(\"The sum of 2 lists on basis of index is: \",list3)"
   ]
  },
  {
   "cell_type": "raw",
   "metadata": {},
   "source": [
    "15. Write a program to get whether the element is prime or no."
   ]
  },
  {
   "cell_type": "code",
   "execution_count": 13,
   "metadata": {},
   "outputs": [
    {
     "name": "stdout",
     "output_type": "stream",
     "text": [
      "Enter a number: 313\n",
      "313 is a prime number\n"
     ]
    }
   ],
   "source": [
    "num = int(input(\"Enter a number: \"))  \n",
    "  \n",
    "if num > 1:  \n",
    "    for i in range(2,num):  \n",
    "        if (num % i) == 0:  \n",
    "            print(num,\"is not a prime number\")  \n",
    "            print(i,\"times\",num//i,\"is\",num)  \n",
    "            break  \n",
    "        else:  \n",
    "            print(num,\"is a prime number\")  \n",
    "            break\n",
    "else:  \n",
    "    print(num,\"is not a prime number\") "
   ]
  },
  {
   "cell_type": "raw",
   "metadata": {},
   "source": [
    "16. Write a program to get the prime no up to n. n should be taken from the user"
   ]
  },
  {
   "cell_type": "code",
   "execution_count": 4,
   "metadata": {},
   "outputs": [
    {
     "name": "stdout",
     "output_type": "stream",
     "text": [
      "Enter the numbr upto which you need prime numbers to be displayed: 10\n",
      "2 3 5 7 "
     ]
    }
   ],
   "source": [
    "def isPrime(n): \n",
    "      \n",
    "    # Corner case \n",
    "    if n <= 1 : \n",
    "        return False\n",
    "  \n",
    "    # check from 2 to n-1 \n",
    "    for i in range(2, n): \n",
    "        if n % i == 0: \n",
    "            return False\n",
    "  \n",
    "    return True\n",
    "  \n",
    "# Function to print primes \n",
    "def Prime(n): \n",
    "    for i in range(2, n + 1): \n",
    "        if isPrime(i): \n",
    "            print(i, end = \" \") \n",
    "\n",
    "n=int(input(\"Enter the numbr upto which you need prime numbers to be displayed: \"))\n",
    "Prime(n)"
   ]
  },
  {
   "cell_type": "raw",
   "metadata": {},
   "source": [
    "17. Write a program to find sum of first 10 natural no."
   ]
  },
  {
   "cell_type": "code",
   "execution_count": 22,
   "metadata": {},
   "outputs": [
    {
     "name": "stdout",
     "output_type": "stream",
     "text": [
      "The sum of all natural numbers upto 10 is:  55\n"
     ]
    }
   ],
   "source": [
    "n=10\n",
    "sum1=0\n",
    "for i in range(n+1):\n",
    "    sum1=sum1+i\n",
    "print(\"The sum of all natural numbers upto 10 is: \",sum1)"
   ]
  },
  {
   "cell_type": "raw",
   "metadata": {},
   "source": [
    "18. Write a program to find sum of first n natural no value of n should be taken from the user"
   ]
  },
  {
   "cell_type": "code",
   "execution_count": null,
   "metadata": {},
   "outputs": [],
   "source": [
    "n=int(input(\"Enter the last natural number upto which sum is needed : \"))\n",
    "\n",
    "def add1(n):\n",
    "    sum1=0\n",
    "    for i in range(n+1):\n",
    "        sum1=sum1+i\n",
    "    print(\"The sum of all natural numbers upto {} is: {} \".format(n,sum1))\n",
    "    \n",
    "add1(n)"
   ]
  },
  {
   "cell_type": "raw",
   "metadata": {},
   "source": [
    "19. Write a program to calculate area of various shapes like circle, rectangle and square using function."
   ]
  },
  {
   "cell_type": "code",
   "execution_count": 23,
   "metadata": {},
   "outputs": [
    {
     "name": "stdout",
     "output_type": "stream",
     "text": [
      "Area Calculator\n",
      "Enter '1' for calculating are of circle, '2' for square, '3' for rectangle and '4' for triangle3\n",
      "Enter length of rectangle:10\n",
      "Enter width of rectangle:20\n",
      "The area of square is: 200\n"
     ]
    }
   ],
   "source": [
    "import math\n",
    "def circle():\n",
    "    r=float(input(\"Enter radius of circle:\"))\n",
    "    area=math.pi*r*r\n",
    "    print(\"The area of circle is:\",area)\n",
    "def square():\n",
    "    side=int(input(\"Enter side of square:\"))\n",
    "    area=side*side\n",
    "    print(\"The area of square is:\",area)\n",
    "def rectangle():\n",
    "    length=int(input(\"Enter length of rectangle:\"))\n",
    "    width=int(input(\"Enter width of rectangle:\"))\n",
    "    area=length*width\n",
    "    print(\"The area of square is:\",area)\n",
    "def triangle():\n",
    "    heigth=int(input(\"Enter heigth of triangle:\"))\n",
    "    base=int(input(\"Enter base of triangle:\"))\n",
    "    area=(base*heigth)/2\n",
    "    print(\"The area of square is:\",area)\n",
    "    \n",
    "print(\"Area Calculator\")\n",
    "choice=int(input(\"Enter '1' for calculating are of circle, '2' for square, '3' for rectangle and '4' for triangle\"))\n",
    "\n",
    "if(choice==1):\n",
    "    circle()\n",
    "elif(choice==2):\n",
    "    square()\n",
    "elif(choice==3):\n",
    "    rectangle()\n",
    "elif(choice==4):\n",
    "    triangle()\n",
    "else:\n",
    "    print(\"Please enter correct value.\")"
   ]
  },
  {
   "cell_type": "raw",
   "metadata": {},
   "source": [
    "20. Write a program to calculate Simple Interest using function. Take the values from the user for P, N, and\n",
    "R. "
   ]
  },
  {
   "cell_type": "code",
   "execution_count": 26,
   "metadata": {},
   "outputs": [
    {
     "name": "stdout",
     "output_type": "stream",
     "text": [
      "Enter principal amount for the simple interest calculation: 100\n",
      "Enter the period for simple interest calculation: 1\n",
      "Enter rate of interest for simple interest calculation: 0.6\n",
      "Simple interst for principal 100, period 1.0 and rate of interest 0.6 is 0.6\n"
     ]
    }
   ],
   "source": [
    "p=int(input(\"Enter principal amount for the simple interest calculation: \"))\n",
    "n=float(input(\"Enter the period for simple interest calculation: \"))\n",
    "r=float(input(\"Enter rate of interest for simple interest calculation: \"))\n",
    "si=(p*n*r)/100\n",
    "print(\"Simple interst for principal {}, period {} and rate of interest {} is {}\".format(p,n,r,si))"
   ]
  },
  {
   "cell_type": "raw",
   "metadata": {},
   "source": [
    "21. Write a program to calculate Compound Interest using function. Take the required parameter from the\n",
    "user."
   ]
  },
  {
   "cell_type": "code",
   "execution_count": 4,
   "metadata": {},
   "outputs": [
    {
     "name": "stdout",
     "output_type": "stream",
     "text": [
      "Enter principal amount for the compound interest calculation: 100000\n",
      "Enter rate of interest: 5\n",
      "Enter time period: 4\n",
      "Compound interest is:  21550.62500000003\n"
     ]
    }
   ],
   "source": [
    "p=int(input(\"Enter principal amount for the compound interest calculation: \"))\n",
    "rate=int(input(\"Enter rate of interest: \"))\n",
    "time=int(input(\"Enter time period: \"))\n",
    "amount = p * (pow((1 + rate / 100), time)) \n",
    "CI = amount - p\n",
    "print(\"Compound interest is: \", CI) "
   ]
  },
  {
   "cell_type": "raw",
   "metadata": {},
   "source": [
    "22. Write a program to take the paise value from the user and convert it into rupee."
   ]
  },
  {
   "cell_type": "code",
   "execution_count": 6,
   "metadata": {},
   "outputs": [
    {
     "name": "stdout",
     "output_type": "stream",
     "text": [
      "Enter paisa amount: 100\n",
      "100 paisa equal 1.6666666666666667 rupees.\n"
     ]
    }
   ],
   "source": [
    "paisa=int(input(\"Enter paisa amount: \"))\n",
    "rupee=paisa/60\n",
    "print(\"{} paisa equal {} rupees.\".format(paisa,rupee))"
   ]
  },
  {
   "cell_type": "raw",
   "metadata": {},
   "source": [
    "23. Write a program to convert temperature in fahrenheit to Celsius and vice-versa."
   ]
  },
  {
   "cell_type": "code",
   "execution_count": 8,
   "metadata": {},
   "outputs": [
    {
     "name": "stdout",
     "output_type": "stream",
     "text": [
      "Enter '1' for Celsius to Fahrenheit conversion and '2' for Fahrenheit to Celsius conversion.1\n",
      "Enter temperature in Celsius: 98\n",
      "98 degree celsius is 208.4 Fahrenheit.\n"
     ]
    }
   ],
   "source": [
    "choice=int(input(\"Enter '1' for Celsius to Fahrenheit conversion and '2' for Fahrenheit to Celsius conversion.\"))\n",
    "if (choice==1):\n",
    "    cel=int(input(\"Enter temperature in Celsius: \"))\n",
    "    far=(cel*1.8)+32\n",
    "    print(\"{} degree celsius is {} Fahrenheit.\".format(cel,far))\n",
    "elif(choice==2):\n",
    "    far=int(input(\"Enter temperature in Fahrenheit: \"))\n",
    "    cel=(far-32)/1.8\n",
    "    print(\"{} Fahrenheit is {} degree Celsius.\".format(far,cel))\n",
    "else:\n",
    "    print(\"Invalid option!!\")"
   ]
  },
  {
   "cell_type": "raw",
   "metadata": {},
   "source": [
    "24.  Write a program to take a list from the user and find the cube and square root of every number in it."
   ]
  },
  {
   "cell_type": "code",
   "execution_count": 12,
   "metadata": {},
   "outputs": [
    {
     "name": "stdout",
     "output_type": "stream",
     "text": [
      "Enter the length of list: 5\n",
      "Enter 1 element in the list: 100\n",
      "Enter 2 element in the list: 64\n",
      "Enter 3 element in the list: 25\n",
      "Enter 4 element in the list: 16\n",
      "Enter 5 element in the list: 4\n",
      "The user entered list is:  [100, 64, 25, 16, 4]\n",
      "The list where we have square root for all elements of list [100, 64, 25, 16, 4] is [10.0, 8.0, 5.0, 4.0, 2.0]\n",
      "The list where we have cube root for all elements of list [100, 64, 25, 16, 4] is [4.641588833612778, 3.9999999999999996, 2.924017738212866, 2.5198420997897464, 1.5874010519681994]\n"
     ]
    }
   ],
   "source": [
    "list1=[]\n",
    "c_root=[]\n",
    "s_root=[]\n",
    "n=int(input(\"Enter the length of list: \"))\n",
    "def square_root(list2):\n",
    "    for i in range(n):\n",
    "        item=list2[i]**0.5\n",
    "        s_root.append(item)\n",
    "    print(\"The list where we have square root for all elements of list {} is {}\".format(list2,s_root))\n",
    "def cube_root(list2):\n",
    "    for i in range(n):\n",
    "        item=list2[i]**(1/3)\n",
    "        c_root.append(item)\n",
    "    print(\"The list where we have cube root for all elements of list {} is {}\".format(list2,c_root))\n",
    "    \n",
    "for i in range(n):\n",
    "    item=int(input(\"Enter {} element in the list: \".format(i+1)))\n",
    "    list1.append(item)\n",
    "print(\"The user entered list is: \",list1)\n",
    "\n",
    "square_root(list1)\n",
    "cube_root(list1)                                                                            "
   ]
  },
  {
   "cell_type": "raw",
   "metadata": {},
   "source": [
    "25. Write a program to find the Second Largest Number in a List?"
   ]
  },
  {
   "cell_type": "code",
   "execution_count": null,
   "metadata": {},
   "outputs": [],
   "source": []
  },
  {
   "cell_type": "raw",
   "metadata": {},
   "source": [
    "26. Write a program to Swap the first and last value of a List?"
   ]
  },
  {
   "cell_type": "code",
   "execution_count": null,
   "metadata": {},
   "outputs": [],
   "source": []
  },
  {
   "cell_type": "raw",
   "metadata": {},
   "source": [
    "27.  Write a program to count the number of Vowels in a String?"
   ]
  },
  {
   "cell_type": "code",
   "execution_count": null,
   "metadata": {},
   "outputs": [],
   "source": []
  },
  {
   "cell_type": "code",
   "execution_count": null,
   "metadata": {},
   "outputs": [],
   "source": []
  },
  {
   "cell_type": "code",
   "execution_count": null,
   "metadata": {},
   "outputs": [],
   "source": []
  },
  {
   "cell_type": "code",
   "execution_count": null,
   "metadata": {},
   "outputs": [],
   "source": []
  }
 ],
 "metadata": {
  "kernelspec": {
   "display_name": "Python 3",
   "language": "python",
   "name": "python3"
  },
  "language_info": {
   "codemirror_mode": {
    "name": "ipython",
    "version": 3
   },
   "file_extension": ".py",
   "mimetype": "text/x-python",
   "name": "python",
   "nbconvert_exporter": "python",
   "pygments_lexer": "ipython3",
   "version": "3.8.3"
  }
 },
 "nbformat": 4,
 "nbformat_minor": 4
}
