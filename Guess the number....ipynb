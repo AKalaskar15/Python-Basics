{
 "cells": [
  {
   "cell_type": "markdown",
   "metadata": {},
   "source": [
    "# Guess the Number...."
   ]
  },
  {
   "cell_type": "code",
   "execution_count": 2,
   "metadata": {},
   "outputs": [],
   "source": [
    "import random as rd"
   ]
  },
  {
   "cell_type": "code",
   "execution_count": 7,
   "metadata": {},
   "outputs": [],
   "source": [
    "def hint(c,num):\n",
    "    if(c==1):\n",
    "        if(num%2==0):\n",
    "            print(\"Hint 1:\\nThe number is an even number ranging from 1 to 100...\")\n",
    "        else:\n",
    "            print(\"Hint 1:\\nThe number is a odd number ranging from 1 to 100...\")\n",
    "    if(c==2):\n",
    "        if(num%10==0):\n",
    "            print(\"Hint 2:\\nThe number is a multiple of 10...\")\n",
    "        else:\n",
    "            print(\"Hint 2:\\nThe number is not a multiple of 10...\")\n",
    "    if(c==3):\n",
    "        num1=int(num/10)+(num%10)\n",
    "        print(\"Hint 3:\\nThe sum of digits of number is {}...\".format(num1))\n",
    "            \n",
    "def Check_num(n,num):\n",
    "    if(n==num):\n",
    "        return(True)\n",
    "\n",
    "def Output(flag,c):\n",
    "    if(flag==0):\n",
    "        print(\"Congratulations!!! You guessed the correct number in {} attempts.\".format(c))\n",
    "    else:\n",
    "        print(\"Better Luck Next Time!!!\")"
   ]
  },
  {
   "cell_type": "code",
   "execution_count": 8,
   "metadata": {},
   "outputs": [
    {
     "name": "stdout",
     "output_type": "stream",
     "text": [
      "Welcome to the Guess The Number... Game!!!\n",
      "Enter your name: Apoorva\n",
      "Enter your age: 25\n",
      "Hint 1:\n",
      "The number is an even number ranging from 1 to 100...\n",
      "Guess the number: 33\n",
      "Hint 2:\n",
      "The number is not a multiple of 10...\n",
      "Guess the number: 56\n",
      "Hint 3:\n",
      "The sum of digits of number is 13...\n",
      "Guess the number: 98\n",
      "Better Luck Next Time!!!\n"
     ]
    }
   ],
   "source": [
    "# Driver Code\n",
    "num=rd.randint(1,99)\n",
    "print(\"Welcome to the Guess The Number... Game!!!\")\n",
    "name=input(\"Enter your name: \")\n",
    "age=input(\"Enter your age: \")\n",
    "flag=1\n",
    "chance=0\n",
    "while(flag==1):\n",
    "    chance=chance+1\n",
    "    hint(chance,num)\n",
    "    no_user=int(input(\"Guess the number: \"))\n",
    "    result=Check_num(no_user,num)\n",
    "    if(result==True):\n",
    "        flag=0\n",
    "        break\n",
    "    else:\n",
    "        if(chance==3):\n",
    "            flag=1\n",
    "            break\n",
    "        else:\n",
    "            continue\n",
    "\n",
    "Output(flag,chance)"
   ]
  },
  {
   "cell_type": "code",
   "execution_count": null,
   "metadata": {},
   "outputs": [],
   "source": []
  },
  {
   "cell_type": "code",
   "execution_count": null,
   "metadata": {},
   "outputs": [],
   "source": []
  }
 ],
 "metadata": {
  "kernelspec": {
   "display_name": "Python 3",
   "language": "python",
   "name": "python3"
  },
  "language_info": {
   "codemirror_mode": {
    "name": "ipython",
    "version": 3
   },
   "file_extension": ".py",
   "mimetype": "text/x-python",
   "name": "python",
   "nbconvert_exporter": "python",
   "pygments_lexer": "ipython3",
   "version": "3.8.3"
  }
 },
 "nbformat": 4,
 "nbformat_minor": 4
}
