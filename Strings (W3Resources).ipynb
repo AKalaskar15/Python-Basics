{
 "cells": [
  {
   "cell_type": "markdown",
   "metadata": {},
   "source": [
    "## Strings Exercise from W3Resorces\n",
    "\n"
   ]
  },
  {
   "cell_type": "code",
   "execution_count": 2,
   "metadata": {},
   "outputs": [
    {
     "name": "stdout",
     "output_type": "stream",
     "text": [
      "Defined string is: Hello Apoorva! Welcome\n",
      "Length of defined string is: 22\n"
     ]
    }
   ],
   "source": [
    "# Write a Python program to calculate the length of a string.\n",
    "\n",
    "string=\"Hello Apoorva! Welcome\"\n",
    "print(\"Defined string is:\",string)\n",
    "print(\"Length of defined string is:\",len(string))"
   ]
  },
  {
   "cell_type": "code",
   "execution_count": 10,
   "metadata": {},
   "outputs": [
    {
     "name": "stdout",
     "output_type": "stream",
     "text": [
      "The string is: Hello Apoorva! Hope you are doing well today!\n",
      "The frequency of every character is: {'H': 2, 'e': 4, 'l': 4, 'o': 7, ' ': 7, 'A': 1, 'p': 2, 'r': 2, 'v': 1, 'a': 3, '!': 2, 'y': 2, 'u': 1, 'd': 2, 'i': 1, 'n': 1, 'g': 1, 'w': 1, 't': 1}\n"
     ]
    }
   ],
   "source": [
    "# Write a Python program to count the number of characters (character frequency) in a string.\n",
    "\n",
    "string1=\"Hello Apoorva! Hope you are doing well today!\"\n",
    "print(\"The string is:\",string1)\n",
    "def char_frequency(string1):\n",
    "    dict1 = {}\n",
    "    for i in string1:\n",
    "        keys=dict1.keys()\n",
    "        if i in keys:\n",
    "            dict1[i]+= 1\n",
    "        else:\n",
    "            dict1[i]=1\n",
    "    return dict1\n",
    "print(\"The frequency of every character is:\",char_frequency(string1))"
   ]
  },
  {
   "cell_type": "code",
   "execution_count": 23,
   "metadata": {},
   "outputs": [
    {
     "data": {
      "text/plain": [
       "'w3ce'"
      ]
     },
     "execution_count": 23,
     "metadata": {},
     "output_type": "execute_result"
    }
   ],
   "source": [
    "# Write a Python program to get a string made of the first 2 and the last 2 chars from a given a string. \n",
    "\n",
    "str1='w3resource'\n",
    "# Long Method\n",
    "str1output=''\n",
    "str1output=str1output+str1[0]\n",
    "str1output=str1output+str1[1]\n",
    "str1output=str1output+str1[8]\n",
    "str1output=str1output+str1[9]\n",
    "str1output\n"
   ]
  },
  {
   "cell_type": "code",
   "execution_count": 25,
   "metadata": {},
   "outputs": [
    {
     "name": "stdout",
     "output_type": "stream",
     "text": [
      "String is: w3resource\n",
      "String is: w3\n",
      "The string is too short\n"
     ]
    }
   ],
   "source": [
    "# Sustainable Method\n",
    "\n",
    "str1='w3resource'\n",
    "print(\"String is:\",str1)\n",
    "str2='w3'\n",
    "print(\"String is:\",str2)\n",
    "length=len(str2)\n",
    "if length<2:\n",
    "    stroutput=''\n",
    "    stroutput= str2[0:2]+str2[-2:]\n",
    "    print(\"The new string is:\",stroutput)\n",
    "else:\n",
    "    print(\"The string is too short\")"
   ]
  },
  {
   "cell_type": "code",
   "execution_count": 11,
   "metadata": {},
   "outputs": [
    {
     "name": "stdout",
     "output_type": "stream",
     "text": [
      "Enter a string:sunshine\n",
      "The new string is: sun$hine\n"
     ]
    }
   ],
   "source": [
    "# Write a Python program to get a string from a given string where all occurrences of its first char have been changed to '$', \n",
    "# except the first char itself.\n",
    "# Input: RESTART, Output: RESTA$T\n",
    "\n",
    "string2=input(\"Enter a string:\")\n",
    "char=string2[0]\n",
    "#print(char)\n",
    "string2=string2.replace(char,'$')\n",
    "#print(string2)\n",
    "string2=char+string2[1:]\n",
    "print(\"The new string is:\",string2)"
   ]
  },
  {
   "cell_type": "code",
   "execution_count": 13,
   "metadata": {},
   "outputs": [
    {
     "name": "stdout",
     "output_type": "stream",
     "text": [
      "Enter first string:ABC\n",
      "Enter second string:XYZ\n",
      "The final output is: XBC AYZ\n"
     ]
    }
   ],
   "source": [
    "#Write a Python program to get a single string from two given strings, \n",
    "#separated by a space and swap the first characters of each string.\n",
    "#Sample String : 'abc', 'xyz'; Expected Result : 'xbc ayz'\n",
    "\n",
    "str1=input(\"Enter first string:\")\n",
    "str2=input(\"Enter second string:\")\n",
    "a=str1[0]\n",
    "b=str2[0]\n",
    "str1=b+str1[1:]\n",
    "str2=a+str2[1:]\n",
    "print(\"The final output is:\",str1+ \" \" +str2)"
   ]
  },
  {
   "cell_type": "code",
   "execution_count": 19,
   "metadata": {},
   "outputs": [
    {
     "name": "stdout",
     "output_type": "stream",
     "text": [
      "Enter string:string\n",
      "ing\n",
      "The final output is: stringly\n"
     ]
    }
   ],
   "source": [
    "#Write a Python program to add 'ing' at the end of a given string (length should be at least 3). If the given string already \n",
    "#ends with 'ing' then add 'ly' instead. If the string length of the given string is less than 3, leave it unchanged.\n",
    "#Sample String : 'abc'; Expected Result : 'abcing'\n",
    "#Sample String : 'string'; Expected Result : 'stringly'\n",
    "\n",
    "str1=input(\"Enter string:\")\n",
    "length=len(str1)\n",
    "#print(str1[(length-3):])\n",
    "if length>2:\n",
    "    if str1[(length-3):]=='ing':\n",
    "        str1=str1+'ly'\n",
    "    else:\n",
    "        str1=str1+'ing'\n",
    "print(\"The final output is:\",str1)"
   ]
  },
  {
   "cell_type": "code",
   "execution_count": 1,
   "metadata": {},
   "outputs": [
    {
     "name": "stdout",
     "output_type": "stream",
     "text": [
      "Enter a sentence:Hello Apoorva Kalaskar\n"
     ]
    },
    {
     "data": {
      "text/plain": [
       "['H',\n",
       " 'e',\n",
       " 'l',\n",
       " 'l',\n",
       " 'o',\n",
       " ' ',\n",
       " 'A',\n",
       " 'p',\n",
       " 'o',\n",
       " 'o',\n",
       " 'r',\n",
       " 'v',\n",
       " 'a',\n",
       " ' ',\n",
       " 'K',\n",
       " 'a',\n",
       " 'l',\n",
       " 'a',\n",
       " 's',\n",
       " 'k',\n",
       " 'a',\n",
       " 'r']"
      ]
     },
     "execution_count": 1,
     "metadata": {},
     "output_type": "execute_result"
    }
   ],
   "source": [
    "#Write a Python function that takes a list of words and returns the length of the longest one.\n",
    "\n",
    "str1=input(\"Enter a sentence:\")\n",
    "list1=list(str1)\n",
    "list1\n"
   ]
  },
  {
   "cell_type": "code",
   "execution_count": 20,
   "metadata": {},
   "outputs": [
    {
     "name": "stdout",
     "output_type": "stream",
     "text": [
      "Enter a string:Apoorva\n",
      "Enter the index number to be replaced:3\n",
      "The final output= Aporva\n"
     ]
    }
   ],
   "source": [
    "#Write a Python program to remove the nth index character from a nonempty string.\n",
    "\n",
    "str1=input(\"Enter a string:\")\n",
    "n=int(input(\"Enter the index number to be replaced:\"))\n",
    "part1=str1[:n]\n",
    "part2=str1[n+1:]\n",
    "print(\"The final output=\",part1+part2)"
   ]
  },
  {
   "cell_type": "code",
   "execution_count": 24,
   "metadata": {},
   "outputs": [
    {
     "name": "stdout",
     "output_type": "stream",
     "text": [
      "Enter a string:Apoorva\n",
      "The final output is: apoorvA\n"
     ]
    }
   ],
   "source": [
    "#Write a Python program to change a given string to a new string where the first and last chars have been exchanged.\n",
    "\n",
    "str1=input(\"Enter a string:\")\n",
    "l=len(str1)\n",
    "a=str1[0]\n",
    "b=str1[l-1]\n",
    "str1=b+str1[1:l-1]+a\n",
    "print(\"The final output is:\",str1)"
   ]
  },
  {
   "cell_type": "code",
   "execution_count": 26,
   "metadata": {},
   "outputs": [
    {
     "name": "stdout",
     "output_type": "stream",
     "text": [
      "Enter a string:Apoorva\n",
      "The final ouput: Aora\n"
     ]
    }
   ],
   "source": [
    "#Write a Python program to remove the characters which have odd index values of a given string.\n",
    "\n",
    "str1=input(\"Enter a string:\")\n",
    "print(\"The final ouput:\",str1[::2])\n"
   ]
  },
  {
   "cell_type": "code",
   "execution_count": null,
   "metadata": {},
   "outputs": [],
   "source": [
    "#Write a Python program to count the occurrences of each word in a given sentence.\n",
    "\n",
    "str1=input(\"Enter a sentence:\")\n"
   ]
  },
  {
   "cell_type": "code",
   "execution_count": 27,
   "metadata": {},
   "outputs": [
    {
     "name": "stdout",
     "output_type": "stream",
     "text": [
      "Enter a string:Hello World!\n",
      "The string in upper case is: HELLO WORLD!\n",
      "The string in lower case is: hello world!\n"
     ]
    }
   ],
   "source": [
    "#Write a Python script that takes input from the user and displays that input back in upper and lower cases.\n",
    "\n",
    "str1=input(\"Enter a string:\")\n",
    "print(\"The string in upper case is:\",str1.upper())\n",
    "print(\"The string in lower case is:\",str1.lower())"
   ]
  },
  {
   "cell_type": "code",
   "execution_count": 30,
   "metadata": {},
   "outputs": [
    {
     "name": "stdout",
     "output_type": "stream",
     "text": [
      "The final output is: ['black', 'blue', 'green', 'red', 'white', 'yellow']\n"
     ]
    }
   ],
   "source": [
    "#Write a Python program that accepts a comma separated sequence of words as input and prints the unique words in \n",
    "#sorted form (alphanumerically). \n",
    "\n",
    "item=['yellow','black','blue','red','white','green']\n",
    "print(\"The final output is:\",sorted(item))"
   ]
  },
  {
   "cell_type": "code",
   "execution_count": null,
   "metadata": {},
   "outputs": [],
   "source": []
  }
 ],
 "metadata": {
  "kernelspec": {
   "display_name": "Python 3",
   "language": "python",
   "name": "python3"
  },
  "language_info": {
   "codemirror_mode": {
    "name": "ipython",
    "version": 3
   },
   "file_extension": ".py",
   "mimetype": "text/x-python",
   "name": "python",
   "nbconvert_exporter": "python",
   "pygments_lexer": "ipython3",
   "version": "3.8.3"
  }
 },
 "nbformat": 4,
 "nbformat_minor": 4
}
