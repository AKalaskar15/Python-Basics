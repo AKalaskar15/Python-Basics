{
 "cells": [
  {
   "cell_type": "markdown",
   "metadata": {},
   "source": [
    "# Questions for Python"
   ]
  },
  {
   "cell_type": "raw",
   "metadata": {},
   "source": [
    "1. Write a Python program which accepts a sequence of comma-separated numbers from user and\n",
    "generate a list and a tuple with those numbers."
   ]
  },
  {
   "cell_type": "code",
   "execution_count": null,
   "metadata": {},
   "outputs": [],
   "source": [
    "values = input(\"Input some comma seprated numbers : \")\n",
    "list = values.split(\",\")\n",
    "tuple = tuple(list)\n",
    "print('List : ',list)\n",
    "print('Tuple : ',tuple)"
   ]
  },
  {
   "cell_type": "raw",
   "metadata": {},
   "source": [
    "2. Write a Python program to imitate a shopping transaction where user purchase 5 notebooks of 20 rs\n",
    "each and 2 pens of 5 rs each. Show the total amount to be payable to the shopkeeper."
   ]
  },
  {
   "cell_type": "code",
   "execution_count": null,
   "metadata": {},
   "outputs": [],
   "source": [
    "print(\"Welcome to the Mall\")\n",
    "pnote=20\n",
    "ppen=5\n",
    "notebook=int(input(\"Enter number of notebooks purchased:\"))\n",
    "pen=int(input(\"Enter number of pens purchased:\"))\n",
    "total= (pnote*notebook)+(ppen*pen)\n",
    "print(\"Total amount payable =\",total)\n",
    "print(\"Thank you for shopping with us!\")"
   ]
  },
  {
   "cell_type": "raw",
   "metadata": {},
   "source": [
    "3. Accept the age of the person and print an appropriate message as per the table given alongside:\n",
    " Age Message\n",
    " <=12 You are child\n",
    " 13-19 You are a teenager\n",
    " 20-59 You are an adult\n",
    " >= 60 You are a senior citizen"
   ]
  },
  {
   "cell_type": "code",
   "execution_count": null,
   "metadata": {},
   "outputs": [],
   "source": [
    "age=int(input(\"Enter your age:\"))\n",
    "if(age<=12):\n",
    "    print(\"You are child\")\n",
    "elif(13<=age<=19):\n",
    "    print(\"You are a teenager\")\n",
    "elif(20<=age<=59):\n",
    "    print(\"You are an adult\")\n",
    "else:\n",
    "    print(\"You are a senior citizen\")"
   ]
  },
  {
   "cell_type": "raw",
   "metadata": {},
   "source": [
    "4. Accept the gross salary of an employee. Calculate and print the tax based on the given criteria.\n",
    "      Salary                   Tax Rate\n",
    " Upto Rs.2,00,000                Nil\n",
    " 2,00,001-5,00,000               10%\n",
    " Above 5,00,000                  20% \n",
    " \n",
    " gross_sal=Basic+HRA+DA\n",
    " HRA=10%Basic\n",
    " DA=5%Bsasic"
   ]
  },
  {
   "cell_type": "code",
   "execution_count": null,
   "metadata": {},
   "outputs": [],
   "source": [
    "print(\"Welcome to tax calculator\")\n",
    "\n",
    "basic=int(input(\"Enter your basic salary:\"))\n",
    "HRA=(10*basic)/100\n",
    "DA=(5*basic)/100\n",
    "\n",
    "gross_sal=basic+HRA+DA\n",
    "print(\"Your calculated Gross Salary=\",gross_sal)\n",
    "\n",
    "if(gross_sal<=200000):\n",
    "    print(\"The tax to be paid is NIL\")\n",
    "elif ((gross_sal>=200001) and (gross_sal<=500000)):\n",
    "    print(\"The tax to be paid is 10%\")\n",
    "else:\n",
    "    print(\"The tax to be paid is 20%\")\n"
   ]
  },
  {
   "cell_type": "raw",
   "metadata": {},
   "source": [
    "5. Write a Python program to check the validity of password input by users. Go to the editor Validation:\n",
    " a. At least 1 letter between [a-z] and 1 letter between [A-Z].\n",
    " b. At least 1 number between [0-9].\n",
    " c. At least 1 character from [$#@].\n",
    " d. Minimum length 6 characters.\n",
    " e. Maximum length 16 characters.\n"
   ]
  },
  {
   "cell_type": "code",
   "execution_count": null,
   "metadata": {},
   "outputs": [],
   "source": [
    "#user=input(\"Enter your user ID\")\n",
    "passwd=input(\"Enter your password\")\n",
    "length=len(passwd)\n",
    "#passq=list(passwd)\n",
    "#print(passq)\n",
    "for i in range (len(passwd)):\n",
    "    ch=ord(passwd[i])\n",
    "    if (65<ch<90 or 97<ch<122):\n",
    "        \n",
    "    elif (97<ch<122):\n",
    "         \n"
   ]
  },
  {
   "cell_type": "raw",
   "metadata": {},
   "source": [
    "6. Scholarships are given to students on the following basis:\n",
    " Percentage obtained          Scholarship Amount\n",
    "      >=90                           5000\n",
    "      >=80                           1000\n",
    "                                 Otherwise Nil "
   ]
  },
  {
   "cell_type": "code",
   "execution_count": null,
   "metadata": {},
   "outputs": [],
   "source": [
    "print(\"Scholarship Experience\")\n",
    "math=int(input(\"Enter marks for Mathematics:\"))\n",
    "sci=int(input(\"Enter marks for Science:\"))\n",
    "eng=int(input(\"Enter marks for English:\"))\n",
    "per=((math+sci+eng)/300)*100\n",
    "print(\"Percentage obtained:\",per)\n",
    "if (per>=90):\n",
    "    print(\"Scholarship Obtained:5000\")\n",
    "elif (per>=80 and per<90):\n",
    "    print(\"Scholarship Obtained:1000\")\n",
    "else:\n",
    "    print(\"We regret to inform you that you are not eligible for scholarship.\")"
   ]
  },
  {
   "cell_type": "raw",
   "metadata": {},
   "source": [
    "7. Accept the purchases made by a customer and calculate and print the discount payable by him. You are\n",
    "given that a discount of 10% is given on purchases greater than Rs. 3000/- and no discount is given for\n",
    "purchases below that."
   ]
  },
  {
   "cell_type": "code",
   "execution_count": null,
   "metadata": {},
   "outputs": [],
   "source": [
    "apple=100\n",
    "grapes=60\n",
    "mango=90\n",
    "appkg=int(input(\"Enter kgs of apples purchased:\"))\n",
    "grakg=int(input(\"Enter kgs of grapes purchased:\"))\n",
    "mankg=int(input(\"Enter kgs of mangoes purchased:\"))\n",
    "total=((apple*appkg)+(grapes*grakg)+(mango*mankg))\n",
    "\n",
    "if(total>=3000):\n",
    "    dis=(10*3000)/100\n",
    "    total1=total-dis\n",
    "    print(\"Total amount payble is:\",total1,\"and discount is offered is:\",dis)\n",
    "else:\n",
    "    print(\"Total amount payble is:\",total,\",so no discount is offered.\")"
   ]
  },
  {
   "cell_type": "raw",
   "metadata": {},
   "source": [
    "8. Write a program to find the largest of three numbers without using function."
   ]
  },
  {
   "cell_type": "code",
   "execution_count": null,
   "metadata": {},
   "outputs": [],
   "source": [
    "a=int(input(\"Enter 1st number:\"))\n",
    "b=int(input(\"Enter 2nd number:\"))\n",
    "c=int(input(\"Enter 3rd number:\"))\n",
    "\n",
    "if(a>b and a>c):\n",
    "    large=a\n",
    "elif(b>a and b>c):\n",
    "    large=b\n",
    "else:\n",
    "    large=c\n",
    "print(\"The largest number is:\",large)"
   ]
  },
  {
   "cell_type": "raw",
   "metadata": {},
   "source": [
    " 9. Write a program to find the average of 10 numbers entered from the user."
   ]
  },
  {
   "cell_type": "code",
   "execution_count": null,
   "metadata": {},
   "outputs": [],
   "source": [
    "inp=[]\n",
    "sum=0\n",
    "for i in range(10):\n",
    "    item=int(input(\"Enter a number\"))\n",
    "    inp.append(item)\n",
    "    \n",
    "print(\"Values entered by user are:\",inp)\n",
    "for i in range(len(inp)):\n",
    "    sum=inp[i]+sum\n",
    "avg=sum/10\n",
    "print(\"The average of the numbers entered is:\",avg)"
   ]
  },
  {
   "cell_type": "raw",
   "metadata": {},
   "source": [
    "10. Write a program to find even and odd numbers from the given list"
   ]
  },
  {
   "cell_type": "code",
   "execution_count": null,
   "metadata": {},
   "outputs": [],
   "source": [
    "inp=[]\n",
    "even=[]\n",
    "odd=[]\n",
    "for i in range(10):\n",
    "    item=int(input(\"Enter a number\"))\n",
    "    inp.append(item)\n",
    "print(\"Values entered by user are:\",inp)\n",
    "for i in range(len(inp)):\n",
    "    if(inp[i]%2==0):\n",
    "        even.append(inp[i])\n",
    "    else:\n",
    "        odd.append(inp[i])\n",
    "print(\"Even numbers from list are:\",even)\n",
    "print(\"Odd numbers from list are:\",odd)"
   ]
  },
  {
   "cell_type": "raw",
   "metadata": {},
   "source": [
    "11. Write a Python program that accepts an integer (n) and computes the value of n+nn+nnn"
   ]
  },
  {
   "cell_type": "code",
   "execution_count": null,
   "metadata": {},
   "outputs": [],
   "source": [
    "n=int(input(\"Enter an interger:\"))\n",
    "num=n+n*n+n*n*n\n",
    "print(\"The calculated value=\",num)"
   ]
  },
  {
   "cell_type": "raw",
   "metadata": {},
   "source": [
    "12. Write a Python program to get the difference between a given number and 17, if the number is greater\n",
    "than 17 return double the absolute difference"
   ]
  },
  {
   "cell_type": "code",
   "execution_count": null,
   "metadata": {},
   "outputs": [],
   "source": [
    "num=int(input(\"Enter an interger:\"))\n",
    "if(num>17):\n",
    "    diff=2*(num-17)\n",
    "else:\n",
    "    diff=num-17\n",
    "print(\"The calculated value from the logic=\",diff)"
   ]
  },
  {
   "cell_type": "raw",
   "metadata": {},
   "source": [
    "13. Write a Python program to test whether a number is within 100 of 1000 or 2000."
   ]
  },
  {
   "cell_type": "code",
   "execution_count": null,
   "metadata": {},
   "outputs": [],
   "source": []
  },
  {
   "cell_type": "raw",
   "metadata": {},
   "source": [
    "14. Write a Python program to calculate the sum of three given numbers, if the values are equal then return\n",
    "three times of their sum."
   ]
  },
  {
   "cell_type": "code",
   "execution_count": null,
   "metadata": {},
   "outputs": [],
   "source": [
    "a=int(input(\"Enter 1st number:\"))\n",
    "b=int(input(\"Enter 2nd number:\"))\n",
    "c=int(input(\"Enter 3rd number:\"))\n",
    "\n",
    "if (a==b and b==c):\n",
    "    sum1=3*(a+b+c)\n",
    "else:\n",
    "    sum1=a+b+c\n",
    "print(\"Calculated summation=\",sum1)"
   ]
  },
  {
   "cell_type": "raw",
   "metadata": {},
   "source": [
    "15. Write a Python program to get a new string from a given string where \"Is\" has been added to the front. If\n",
    "the given string already begins with \"Is\" then return the string unchanged."
   ]
  },
  {
   "cell_type": "code",
   "execution_count": null,
   "metadata": {},
   "outputs": [],
   "source": [
    "str1=input(\"Enter a string: \")\n",
    "start=str1[:2]\n",
    "if(start=='Is'):\n",
    "    str2=str1\n",
    "else:\n",
    "    str2='Is'+str1\n",
    "print(\"The new string: \",str2)"
   ]
  },
  {
   "cell_type": "raw",
   "metadata": {},
   "source": [
    "16. Write a Python program to find whether a given number (accept from the user) is even or odd, print out\n",
    "an appropriate message to the user."
   ]
  },
  {
   "cell_type": "code",
   "execution_count": null,
   "metadata": {},
   "outputs": [],
   "source": [
    "num=int(input(\"Enter a number: \"))\n",
    "if(num%2==0):\n",
    "    print(\"The number is even.\")\n",
    "else:\n",
    "    print(\"The number is odd\")"
   ]
  },
  {
   "cell_type": "raw",
   "metadata": {},
   "source": [
    "17. Write a Python program to concatenate all elements in a list into a string and return it"
   ]
  },
  {
   "cell_type": "code",
   "execution_count": null,
   "metadata": {},
   "outputs": [],
   "source": [
    "inp=[]\n",
    "for i in range(5):\n",
    "    item=(input(\"Enter {}th number\".format(i+1)))\n",
    "    inp.append(item)\n",
    "print(\"The list entered by user is {} and type is {} \".format(inp,type(inp)))\n",
    "str1=str(inp)\n",
    "print(\"The string is {} and type is {} \".format(str1,type(str1)))"
   ]
  },
  {
   "cell_type": "raw",
   "metadata": {},
   "source": [
    "18. Write a Python program to compute the greatest common divisor (GCD) of two positive integers."
   ]
  },
  {
   "cell_type": "code",
   "execution_count": null,
   "metadata": {},
   "outputs": [],
   "source": [
    "def gcd(x, y):\n",
    "    gcd = 1\n",
    "    \n",
    "    if x % y == 0:\n",
    "        return y\n",
    "    \n",
    "    for k in range(int(y / 2), 0, -1):\n",
    "        if x % k == 0 and y % k == 0:\n",
    "            gcd = k\n",
    "            break  \n",
    "    return gcd\n",
    "\n",
    "print(gcd(12, 17))\n",
    "print(gcd(4, 6))"
   ]
  },
  {
   "cell_type": "raw",
   "metadata": {},
   "source": [
    "19. Write a Python program to get the least common multiple (LCM) of two positive integers."
   ]
  },
  {
   "cell_type": "code",
   "execution_count": null,
   "metadata": {},
   "outputs": [],
   "source": [
    "def lcm(x, y):\n",
    "   if x > y:\n",
    "       z = x\n",
    "   else:\n",
    "       z = y\n",
    "\n",
    "   while(True):\n",
    "       if((z % x == 0) and (z % y == 0)):\n",
    "           lcm = z\n",
    "           break\n",
    "       z += 1\n",
    "\n",
    "   return lcm\n",
    "print(lcm(4, 6))\n",
    "print(lcm(15, 17))"
   ]
  },
  {
   "cell_type": "raw",
   "metadata": {},
   "source": [
    "20. Write a Python program to sum of two given integers. However, if the sum is between 15 to 20 it will\n",
    "return 20"
   ]
  },
  {
   "cell_type": "code",
   "execution_count": null,
   "metadata": {},
   "outputs": [],
   "source": [
    "num1=int(input(\"Enter 1st number:\"))\n",
    "num2=int(input(\"Enter 2nd number:\"))\n",
    "sum1=num1+num2\n",
    "if (sum1>=15 and sum1<=20):\n",
    "    print(\"The calculated sum =20\")\n",
    "else:\n",
    "    print(\"The calculated sum =\",sum1)"
   ]
  },
  {
   "cell_type": "raw",
   "metadata": {},
   "source": [
    "21. Write a Python program to take the user information for n students details like name, age, address and\n",
    "print them on different lines."
   ]
  },
  {
   "cell_type": "code",
   "execution_count": null,
   "metadata": {},
   "outputs": [],
   "source": [
    "n=int(input(\"Enter the number of students in class: \"))\n",
    "def details():\n",
    "    name1=input(\"Enter student's name:\")\n",
    "    age=int(input(\"Enter student's age:\"))\n",
    "    address=input(\"Enter student's address:\")\n",
    "    print(\"Student's name: {} \\t Student's age: {} \\t Student's address: {}\".format(name1,age,address))\n",
    "\n",
    "for i in range(n):\n",
    "    details()"
   ]
  },
  {
   "cell_type": "raw",
   "metadata": {},
   "source": [
    "22. Write a Python program to find the sum of array (hint take a list as array)."
   ]
  },
  {
   "cell_type": "code",
   "execution_count": null,
   "metadata": {},
   "outputs": [],
   "source": [
    "#n=int(input(\"Enter size of list:\")\n",
    "inp=[]\n",
    "sum1=0\n",
    "for i in range(5):\n",
    "      item=int(input(\"Enter {}th number\".format(i+1)))\n",
    "      inp.append(item)\n",
    "print(\"The entered list is:\",inp)\n",
    "for i in range(5):\n",
    "      sum1=sum1+inp[i]\n",
    "print(\"Sum of list is: \",sum1)"
   ]
  },
  {
   "cell_type": "raw",
   "metadata": {},
   "source": [
    "23. Write a Python program to imitate bank transactions like deposit, withdrawal and check balance."
   ]
  },
  {
   "cell_type": "code",
   "execution_count": null,
   "metadata": {},
   "outputs": [],
   "source": [
    "#Fixed Values\n",
    "username=\"apoorva.kalaskar\"\n",
    "password=\"apoorva15\"\n",
    "balance=15000\n",
    "\n",
    "#Authenticity Check\n",
    "UID=input(\"Enter user name:\")\n",
    "Pass=input(\"Enter your password:\")\n",
    "if username==UID:\n",
    "    if Pass==password:\n",
    "        print(\"You are in successfully logged in.\")\n",
    "        #Options for Transaction\n",
    "        print(\"Select your option from below: Select '1' for Balance check, Select '2' for Deposit, Select '3' for Withdraw\")\n",
    "        option=int(input(\"Please enter your desired option\"))\n",
    "        if option==1:\n",
    "                print(\"You have selected option for Balance check\")\n",
    "                print(\"Your account balance is = \",balance)\n",
    "        elif option==2:\n",
    "                print(\"You have selected option for Deposit\")\n",
    "                amount=int(input(\"Enter the amount you want to deposit\"))\n",
    "                balance=balance+amount\n",
    "                print(\"Your updated balance is=\",balance)\n",
    "        elif option==3:\n",
    "                print(\"You have selected option for Withdrwal\")\n",
    "                withdraw=int(input(\"Enter the amount you want to withdraw\"))\n",
    "                if withdraw<balance:\n",
    "                    balance=balance-withdraw\n",
    "                    print(\"Your updated balance is=\",balance)\n",
    "                else:\n",
    "                    print(\"You have insufficient balance.\")\n",
    "        else:\n",
    "                print(\"Please enter valid option!!\")\n",
    "        print(\"Thank you for banking with us!!\")\n",
    "    else:\n",
    "        print(\"Username or password is incorrect!!\")\n",
    "else:\n",
    "    print(\"Username or password is incorrect!!\")\n"
   ]
  },
  {
   "cell_type": "raw",
   "metadata": {},
   "source": [
    "24. Write a Python program to imitate login activity of a user also do its validation. (hint:-If user enters the\n",
    "wrong userid or password it should provide a message)"
   ]
  },
  {
   "cell_type": "code",
   "execution_count": null,
   "metadata": {},
   "outputs": [],
   "source": [
    "username=\"apoorva.kalaskar\"\n",
    "password=\"apoorva15\"\n",
    "balance=15000\n",
    "\n",
    "#Authenticity Check\n",
    "UID=input(\"Enter user name:\")\n",
    "Pass=input(\"Enter your password:\")\n",
    "if username==UID:\n",
    "    if Pass==password:\n",
    "        print(\"Welcome {}\".format(UID))\n",
    "else:\n",
    "    print(\"Invalid username or password\")"
   ]
  },
  {
   "cell_type": "raw",
   "metadata": {},
   "source": [
    "25. Accept the marks obtained by the 5 students for subjects of Python, Statistics, Machine Learning, Deep\n",
    "Learning, Big-Data also all marks are out of 100. Find the sum and percentage of the for all students and\n",
    "display the name and marks of the first rank holder."
   ]
  },
  {
   "cell_type": "code",
   "execution_count": 9,
   "metadata": {},
   "outputs": [
    {
     "name": "stdout",
     "output_type": "stream",
     "text": [
      "Enter the details for student below:\n",
      "Enter marks for Python:67\n",
      "Enter marks for Statistics:98\n",
      "Enter marks for Machine Learning:87\n",
      "Enter marks for Deep Learning:67\n",
      "Enter marks for Big Data:88\n",
      "[67, 98, 87, 67, 88]\n",
      "Enter the details for student below:\n",
      "Enter marks for Python:90\n",
      "Enter marks for Statistics:8\n",
      "Enter marks for Machine Learning:78\n",
      "Enter marks for Deep Learning:67\n",
      "Enter marks for Big Data:98\n",
      "[90, 8, 78, 67, 98]\n",
      "Enter the details for student below:\n",
      "Enter marks for Python:78\n",
      "Enter marks for Statistics:77\n",
      "Enter marks for Machine Learning:67\n",
      "Enter marks for Deep Learning:98\n",
      "Enter marks for Big Data:67\n",
      "[78, 77, 67, 98, 67]\n",
      "81.4 68.2 77.4\n"
     ]
    }
   ],
   "source": [
    "per=[]\n",
    "high=0\n",
    "def marks():\n",
    "    student=[]\n",
    "    print(\"Enter the details for student below:\")\n",
    "    python=int(input(\"Enter marks for Python:\"))\n",
    "    student.append(python)\n",
    "    stats=int(input(\"Enter marks for Statistics:\"))\n",
    "    student.append(stats)   \n",
    "    ml=int(input(\"Enter marks for Machine Learning:\"))\n",
    "    student.append(ml)\n",
    "    dl=int(input(\"Enter marks for Deep Learning:\"))\n",
    "    student.append(dl)\n",
    "    bigdata=int(input(\"Enter marks for Big Data:\"))\n",
    "    student.append(bigdata)\n",
    "    print(\"Marks of student are: \",student)\n",
    "    return(student)\n",
    "\n",
    "def per(s):\n",
    "    sum1=0\n",
    "    for i in range(5):\n",
    "        sum1=sum1+s[i]\n",
    "    percentage=sum1/5\n",
    "    return(percentage)\n",
    "\n",
    "s1=marks()\n",
    "p1=per(s1)\n",
    "s2=marks()\n",
    "p2=per(s2)\n",
    "s3=marks()\n",
    "p3=per(s3)\n",
    "s4=marks()\n",
    "p4=per(s4)\n",
    "s5=marks()\n",
    "p5=per(s5)\n",
    "per.append(p1)\n",
    "per.append(p2)\n",
    "per.append(p3)\n",
    "per.append(p4)\n",
    "per.append(p5)\n",
    "\n",
    "for i in range(5):\n",
    "    if(high<per[i]):\n",
    "        high=per[i]\n",
    "        position=i\n",
    "\n",
    "\n"
   ]
  },
  {
   "cell_type": "code",
   "execution_count": null,
   "metadata": {},
   "outputs": [],
   "source": [
    "# New Way\n",
    "\n",
    "student1={name:'Apoorva',marks:(67,78,67,90,45)}"
   ]
  },
  {
   "cell_type": "raw",
   "metadata": {},
   "source": [
    "26. Given 2 int arrays, a and b, each length 3, return a new array length 2 containing their middle elements.\n",
    "middle_way([1, 2, 3], [4, 5, 6]) → [2, 5]\n",
    "middle_way([7, 7, 7], [3, 8, 0]) → [7, 8]\n",
    "middle_way([5, 2, 9], [1, 4, 5]) → [2, 4]"
   ]
  },
  {
   "cell_type": "code",
   "execution_count": 2,
   "metadata": {},
   "outputs": [
    {
     "name": "stdout",
     "output_type": "stream",
     "text": [
      "Enter 1th number for 1st array1\n",
      "Enter 2th number for 1st array2\n",
      "Enter 3th number for 1st array3\n",
      "Enter 1th number for 2nd array7\n",
      "Enter 2th number for 2nd array8\n",
      "Enter 3th number for 2nd array9\n",
      "Array 1:  [1, 2, 3]\n",
      "Array 2:  [7, 8, 9]\n",
      "Array containing middle elements of both arrays:  [2, 8]\n"
     ]
    }
   ],
   "source": [
    "a=[]\n",
    "b=[]\n",
    "c=[]\n",
    "for i in range(3):\n",
    "    item=int(input(\"Enter {} number for 1st array\".format(i+1)))\n",
    "    a.append(item)\n",
    "for i in range(3):\n",
    "    item=int(input(\"Enter {} number for 2nd array\".format(i+1)))\n",
    "    b.append(item)\n",
    "for i in range(3):\n",
    "    if (i==1):\n",
    "        c.append(a[i])\n",
    "        c.append(b[i])\n",
    "print(\"Array 1: \",a)\n",
    "print(\"Array 2: \",b)\n",
    "print(\"Array containing middle elements of both arrays: \",c)\n",
    "        "
   ]
  },
  {
   "cell_type": "raw",
   "metadata": {},
   "source": [
    "27. Given an array of ints, return a new array length 2 containing the first and last elements from the original array. The original array will be length 1 or more.\n",
    "make_ends([1, 2, 3]) → [1, 3]\n",
    "make_ends([1, 2, 3, 4]) → [1, 4]\n",
    "make_ends([7, 4, 6, 2]) → [7, 2]"
   ]
  },
  {
   "cell_type": "code",
   "execution_count": 4,
   "metadata": {},
   "outputs": [
    {
     "name": "stdout",
     "output_type": "stream",
     "text": [
      "Enter length of array:8\n",
      "Enter 1th number for array4\n",
      "Enter 2th number for array78\n",
      "Enter 3th number for array34\n",
      "Enter 4th number for array09\n",
      "Enter 5th number for array12\n",
      "Enter 6th number for array56\n",
      "Enter 7th number for array3\n",
      "Enter 8th number for array8\n",
      "User entered array:  [4, 78, 34, 9, 12, 56, 3, 8]\n",
      "Array containing 1st and last element:  [4, 8]\n"
     ]
    }
   ],
   "source": [
    "n=int(input(\"Enter length of array:\"))\n",
    "a=[]\n",
    "b=[]\n",
    "for i in range(n):\n",
    "    item=int(input(\"Enter {} number value for array: \".format(i+1)))\n",
    "    a.append(item)\n",
    "for i in range(n):\n",
    "    if(i==0):\n",
    "        b.append(a[i])\n",
    "    if(i==(n-1)):\n",
    "        b.append(a[i])\n",
    "print(\"User entered array: \",a)\n",
    "print(\"Array containing 1st and last element: \",b)"
   ]
  },
  {
   "cell_type": "raw",
   "metadata": {},
   "source": [
    "28. Write a Python program to find the Mean, Median and Mode of three user entered values."
   ]
  },
  {
   "cell_type": "code",
   "execution_count": 8,
   "metadata": {},
   "outputs": [
    {
     "name": "stdout",
     "output_type": "stream",
     "text": [
      "Total number of values to be entered:9\n",
      "Enter 1 valuue34\n",
      "Enter 2 valuue67\n",
      "Enter 3 valuue54\n",
      "Enter 4 valuue54\n",
      "Enter 5 valuue54\n",
      "Enter 6 valuue78\n",
      "Enter 7 valuue90\n",
      "Enter 8 valuue32\n",
      "Enter 9 valuue45\n",
      "The statistical values for user entered list are as below: \n",
      "Mean = 56.44444444444444 \t Median = 54 \t Mode = 54\n"
     ]
    }
   ],
   "source": [
    "import statistics as ss\n",
    "n=int(input(\"Total number of values to be entered:\"))\n",
    "a=[]\n",
    "for i in range(n):\n",
    "    item=int(input(\"Enter {} valuue\".format(i+1)))\n",
    "    a.append(item)\n",
    "mean=ss.mean(a)\n",
    "mode=ss.mode(a)\n",
    "median=ss.median(a)\n",
    "print(\"The statistical values for user entered list are as below: \\nMean = {} \\t Median = {} \\t Mode = {}\".format(mean,median,mode))"
   ]
  },
  {
   "cell_type": "raw",
   "metadata": {},
   "source": [
    "29. Write a program to print the A using stars"
   ]
  },
  {
   "cell_type": "code",
   "execution_count": null,
   "metadata": {},
   "outputs": [],
   "source": []
  },
  {
   "cell_type": "code",
   "execution_count": null,
   "metadata": {},
   "outputs": [],
   "source": []
  },
  {
   "cell_type": "code",
   "execution_count": null,
   "metadata": {},
   "outputs": [],
   "source": []
  }
 ],
 "metadata": {
  "kernelspec": {
   "display_name": "Python 3",
   "language": "python",
   "name": "python3"
  },
  "language_info": {
   "codemirror_mode": {
    "name": "ipython",
    "version": 3
   },
   "file_extension": ".py",
   "mimetype": "text/x-python",
   "name": "python",
   "nbconvert_exporter": "python",
   "pygments_lexer": "ipython3",
   "version": "3.8.3"
  }
 },
 "nbformat": 4,
 "nbformat_minor": 4
}
